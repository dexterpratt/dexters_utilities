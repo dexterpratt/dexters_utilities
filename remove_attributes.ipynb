{
 "cells": [
  {
   "cell_type": "code",
   "execution_count": null,
   "id": "7b443b9f-58f2-4649-803d-c1fb95fac28b",
   "metadata": {},
   "outputs": [],
   "source": [
    "##Remove Attributes"
   ]
  },
  {
   "cell_type": "code",
   "execution_count": 1,
   "id": "90d22ca5-3478-42ec-8b92-e79bd5747408",
   "metadata": {},
   "outputs": [],
   "source": [
    "import ndex2\n"
   ]
  },
  {
   "cell_type": "code",
   "execution_count": 4,
   "id": "7dcfd192-20e2-47f4-a5dc-2b2e7b45d02b",
   "metadata": {},
   "outputs": [],
   "source": [
    "def remove_attributes(uuid, \n",
    "                      username, \n",
    "                      password, \n",
    "                      removal_list, \n",
    "                      server=\"https://ndexbio.org\", \n",
    "                      update=False):\n",
    "    # get the network\n",
    "    n = ndex2.create_nice_cx_from_server(server, uuid=uuid, username=username, password=password)\n",
    "    # iterate over the removal_list\n",
    "    for removal_spec in removal_list:\n",
    "        remove_attribute(n, removal_spec[\"type\"], removal_spec[\"att_name\"])\n",
    "    # save the network\n",
    "    if update:\n",
    "        nice_cx.update_to(uuid, username, server, password)\n",
    "    else:\n",
    "        nice_cx.upload_to(server, server, username, password)\n",
    "\n",
    "        \n",
    "def remove_attribute(n, type, att_name):\n",
    "    if type == \"edge\":\n",
    "        for edge_id, edge in n.get_edges():\n",
    "            n.remove_edge_attribute(edge_id, att_name)\n",
    "    elif type == \"node\":\n",
    "        for node_id, node in n.get_nodes():\n",
    "            n.remove_node_attribute(node_id, att_name)\n",
    "    elif type == \"network\":\n",
    "        n.remove_network_attribute(att_name)\n",
    "    else:\n",
    "        print(\"type \", type, \"is not one of network, node, or edge\")\n",
    "        "
   ]
  },
  {
   "cell_type": "code",
   "execution_count": null,
   "id": "4524386e-c8a3-4d7e-ae52-4bea2c3db61e",
   "metadata": {},
   "outputs": [],
   "source": []
  }
 ],
 "metadata": {
  "kernelspec": {
   "display_name": "Python 3.9 (XPython)",
   "language": "python",
   "name": "xpython"
  },
  "language_info": {
   "file_extension": ".py",
   "mimetype": "text/x-python",
   "name": "python",
   "version": "3.9.5"
  }
 },
 "nbformat": 4,
 "nbformat_minor": 5
}
