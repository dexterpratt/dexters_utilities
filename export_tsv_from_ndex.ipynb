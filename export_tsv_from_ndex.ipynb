{
 "cells": [
  {
   "cell_type": "markdown",
   "metadata": {},
   "source": [
    "\n",
    "Export node or edge table in TSV format\n",
    "=======================================\n",
    "\n",
    "We use this network as an example: http://test.ndexbio.org/viewer/networks/d1258a93-c81c-11eb-9060-0660b7976219\n",
    "\n",
    "Its UUID is: d1258a93-c81c-11eb-9060-0660b7976219\n",
    "\n",
    "\n",
    "### Recap of how to render a NDEx network in Jupyter Notebook\n",
    "\n",
    "##### Install Widget\n",
    "\n",
    "pip install cyjupyter\n",
    "\n",
    "jupyter nbextension enable --py --sys-prefix cyjupyter\n"
   ]
  },
  {
   "cell_type": "code",
   "execution_count": 12,
   "metadata": {
    "scrolled": true
   },
   "outputs": [
    {
     "data": {
      "application/vnd.jupyter.widget-view+json": {
       "model_id": "bbcdbe8c6306442f8c65ee25dce7cf73",
       "version_major": 2,
       "version_minor": 0
      },
      "text/plain": [
       "Cytoscape(data=[{'numberVerification': [{'longNumber': 281474976710655}]}, {'metaData': [{'name': 'cyVisualPro…"
      ]
     },
     "metadata": {},
     "output_type": "display_data"
    }
   ],
   "source": [
    "import ndex2.client as nc\n",
    "import ndex2\n",
    "import io\n",
    "import json\n",
    "from IPython.display import HTML\n",
    "from cyjupyter import Cytoscape\n",
    "\n",
    "anon_ndex=nc.Ndex2(\"http://test.ndexbio.org\")\n",
    "response=anon_ndex.get_network_as_cx_stream('d1258a93-c81c-11eb-9060-0660b7976219');\n",
    "raw_cx = response.json()\n",
    "\n",
    "Cytoscape(data=raw_cx, format='cx')\n"
   ]
  },
  {
   "cell_type": "markdown",
   "metadata": {},
   "source": [
    "Prepare for the TSV export functions."
   ]
  },
  {
   "cell_type": "code",
   "execution_count": 3,
   "metadata": {},
   "outputs": [],
   "source": [
    "import requests\n",
    "import pandas as pd\n"
   ]
  },
  {
   "cell_type": "markdown",
   "metadata": {},
   "source": [
    "### Get the node table -- all attributes with a header"
   ]
  },
  {
   "cell_type": "code",
   "execution_count": 4,
   "metadata": {},
   "outputs": [
    {
     "name": "stdout",
     "output_type": "stream",
     "text": [
      "text/tab-separated-values;charset=UTF-8\n"
     ]
    }
   ],
   "source": [
    "r = requests.get('https://test.ndexbio.org/v3/networks/d1258a93-c81c-11eb-9060-0660b7976219/export?type=node')\n",
    "print (r.headers['content-type'])"
   ]
  },
  {
   "cell_type": "code",
   "execution_count": 5,
   "metadata": {},
   "outputs": [
    {
     "name": "stdout",
     "output_type": "stream",
     "text": [
      "id\trepresents\tname\tmember\talias\ttype\n",
      "0\t\"uniprot:P00813\"\t\"ADA\"\t\t\"uniprot:Q53F92,uniprot:Q6LA59\"\t\"protein\"\n",
      "1\t\"uniprot:E9PI07\"\t\"MYB\"\t\t\"uniprot:E9PLZ5,uniprot:E9PNA4,uniprot:E9PNL6,uniprot:E9PRS2,uniprot:P10242,uniprot:P78391,uniprot:P78392,uniprot:P78525,uniprot:P78526,uniprot:Q14023,uniprot:Q14024,uniprot:Q708E4,uniprot:Q708E7,uniprot:Q9UE83\"\t\"protein\"\n",
      "2\t\"uniprot:P29275\"\t\"ADORA2B\"\t\t\t\"protein\"\n",
      "3\t\"uniprot:P15144\"\t\"ANPEP\"\t\t\"uniprot:Q16728,uniprot:Q6GT90,uniprot:Q8IUK3,uniprot:Q8IVH3,uniprot:Q9UCE0\"\t\"protein\"\n",
      "4\t\"uniprot:A9UL17\"\t\"ETS1\"\t\t\"uniprot:F5GYX9,uniprot:P14921,uniprot:Q14278,uniprot:Q16080,uniprot:Q6N087,uniprot:Q96AC5\"\t\"protein\"\n",
      "5\t\"uniprot:O75444\"\t\"MAF\"\t\t\"uniprot:Q66I47,uniprot:Q9UP93\"\t\"protein\"\n",
      "6\t\"uniprot:P20020\"\t\"ATP2B1\"\t\t\"uniprot:Q12992,uniprot:Q12993,uniprot:Q13819,uniprot:Q13820,uniprot:Q13821,uniprot:Q16504,uniprot:Q93082\"\t\"protein\"\n",
      "7\t\"cas:302-79-4\"\t\"ATRA\"\t\t\t\"smallmolecule\"\n",
      "8\t\"uniprot:C9JHD5\"\t\"BCL2\"\t\t\"uniprot:P10415,uniprot:P10416,uniprot:Q13842,uniprot:Q16197\"\t\"protein\"\n",
      "9\t\"uniprot:Q13489\"\t\"BIRC3\"\t\t\"uniprot:Q16628,uniprot:Q9HC27,uniprot:Q9UP46\"\t\"protein\"\n",
      "10\t\"uniprot:P00915\"\t\"CA1\"\t\t\t\"protein\"\n",
      "11\t\"uniprot:P15976\"\t\"GATA1\"\t\t\"uniprot:Q96GB8\"\t\"protein\"\n",
      "12\t\"uniprot:P55212\"\t\"CASP6\"\t\t\"uniprot:Q9BQE7\"\t\"protein\"\n",
      "13\t\"uniprot:B1PJR7\"\t\"CBX4\"\t\t\"uniprot:O00257,uniprot:Q6TPI8,uniprot:Q96C04\"\t\"protein\"\n",
      "14\t\"uniprot:B7Z7E3\"\t\"CCNA1\"\t\t\"uniprot:P78396,uniprot:Q5T3V0,uniprot:Q5U0G2,uniprot:Q8IY91\"\t\"protein\"\n",
      "15\t\"uniprot:A8K066\"\t\"CCNB1\"\t\t\"uniprot:P14635,uniprot:Q5TZP9\"\t\"protein\"\n",
      "16\t\"uniprot:P24385\"\t\"CCND1\"\t\t\"uniprot:Q6LEF0\"\t\"protein\"\n",
      "17\t\"uniprot:A4D1G0\"\t\"CDK6\"\t\t\"uniprot:Q00534\"\t\"protein\"\n",
      "18\t\"uniprot:P38936\"\t\"CDKN1A\"\t\t\"uniprot:Q14010,uniprot:Q6FI05,uniprot:Q9BUT4\"\t\"protein\"\n",
      "19\t\"uniprot:P46527\"\t\"CDKN1B\"\t\t\"uniprot:Q16307,uniprot:Q5U0H2,uniprot:Q9BUS6\"\t\"protein\"\n",
      "20\t\"uniprot:A5X2G7\"\t\"CDKN2A\"\t\t\"uniprot:D3DRK1,uniprot:O95440,uniprot:P42771,uniprot:Q15191,uniprot:Q5VVJ5,uniprot:Q96B52,uniprot:Q9NP05\"\t\"protein\"\n",
      "21\t\"uniprot:A8K664\"\t\"CD34\"\t\t\"uniprot:P28906,uniprot:Q15970,uniprot:Q15971,uniprot:Q5JTA3,uniprot:Q5JTA4,uniprot:Q9UJB1\"\t\"protein\"\n",
      "22\t\"uniprot:B2R737\"\t\"CD4\"\t\t\"uniprot:D3DUS5,uniprot:P01730,uniprot:Q4ZGK2,uniprot:Q5U066,uniprot:Q9UDE5\"\t\"protein\"\n",
      "23\t\"uniprot:Q14469\"\t\"HES1\"\t\t\"uniprot:Q6FHB2\"\t\"protein\"\n",
      "24\t\"uniprot:A7LNP2\"\t\"CEBPA\"\t\t\"uniprot:P49715,uniprot:P78319,uniprot:Q05CA4\"\t\"protein\"\n",
      "25\t\"uniprot:A8K671\"\t\"CEBPB\"\t\t\"uniprot:P17676,uniprot:Q96IH2,uniprot:Q9H4Z5\"\t\"protein\"\n",
      "26\t\"uniprot:P49716\"\t\"CEBPD\"\t\t\"uniprot:Q14937,uniprot:Q2M2X9\"\t\"protein\"\n",
      "27\t\"uniprot:P08246\"\t\"ELANE\"\t\t\"uniprot:P09649,uniprot:Q6B0D9,uniprot:Q6LDP5\"\t\"protein\"\n",
      "28\t\"uniprot:B2RA90\"\t\"LECT2\"\t\t\"uniprot:O14565,uniprot:O14960,uniprot:Q52M49\"\t\"protein\"\n",
      "29\t\"uniprot:P00695\"\t\"LYZ\"\t\t\"uniprot:P61626,uniprot:Q13170,uniprot:Q9UCF8\"\t\"protein\"\n",
      "30\t\"uniprot:P11309\"\t\"PIM1\"\t\t\"uniprot:Q38RT9,uniprot:Q5T7H7,uniprot:Q96RG3\"\t\"protein\"\n",
      "31\t\"uniprot:P15637\"\t\"PRTN3\"\t\t\"uniprot:P18078,uniprot:P24158,uniprot:Q4VB08,uniprot:Q4VB09,uniprot:Q6LBM7,uniprot:Q6LBN2,uniprot:Q9UD25,uniprot:Q9UQD8\"\t\"protein\"\n",
      "32\t\"uniprot:B1ALG3\"\t\"SMARCA2\"\t\t\"uniprot:B1ALG4,uniprot:D3DRH4,uniprot:D3DRH5,uniprot:P51531\"\t\"protein\"\n",
      "33\t\"uniprot:Q13122\"\t\"SND1\"\t\t\"uniprot:Q7KZF4,uniprot:Q96AG0\"\t\"protein\"\n",
      "34\t\"uniprot:P17947\"\t\"SPI1\"\t\t\t\"protein\"\n",
      "35\t\"uniprot:B4DEL9\"\t\"TOM1\"\t\t\"uniprot:B4DNA1,uniprot:O60784,uniprot:Q5TIJ6,uniprot:Q86X74\"\t\"protein\"\n",
      "36\t\"uniprot:A8K4W3\"\t\"CLTA\"\t\t\"uniprot:B4DIN1,uniprot:F5H6N3,uniprot:P09496,uniprot:Q2XPN5,uniprot:Q53XZ1\"\t\"protein\"\n",
      "37\t\"uniprot:P02464\"\t\"COL1A2\"\t\t\"uniprot:P08123,uniprot:Q13897,uniprot:Q13997,uniprot:Q13998,uniprot:Q14038,uniprot:Q14057,uniprot:Q15177,uniprot:Q15947,uniprot:Q16480,uniprot:Q16511,uniprot:Q7Z5S6,uniprot:Q9UEB6,uniprot:Q9UEF9,uniprot:Q9UM83,uniprot:Q9UMI1,uniprot:Q9UML5,uniprot:Q9UMM6,uniprot:Q9UPH0\"\t\"protein\"\n",
      "38\t\"uniprot:P53621\"\t\"COPA\"\t\t\"uniprot:Q5T201,uniprot:Q8IXZ9\"\t\"protein\"\n",
      "39\t\"uniprot:D3DUC9\"\t\"CREBBP\"\t\t\"uniprot:O00147,uniprot:Q16376,uniprot:Q4LE28,uniprot:Q92793\"\t\"protein\"\n",
      "40\t\"Cbp/p300\"\t\"Cbp/p300\"\t\t\t\"protein\"\n",
      "41\t\"uniprot:B1AKC2\"\t\"EP300\"\t\t\"uniprot:Q09472\"\t\"protein\"\n",
      "42\t\"uniprot:B2R898\"\t\"MYF6\"\t\t\"uniprot:P23409,uniprot:Q53X80,uniprot:Q6FHI9\"\t\"protein\"\n",
      "43\t\"uniprot:O75321\"\t\"MYOD1\"\t\t\"uniprot:P15172\"\t\"protein\"\n",
      "44\t\"uniprot:D3DWS8\"\t\"ZFHX3\"\t\t\"uniprot:O15101,uniprot:Q13719,uniprot:Q15911\"\t\"protein\"\n",
      "45\t\"uniprot:B5A955\"\t\"CSF1R\"\t\t\"uniprot:D3DQG2,uniprot:P07333,uniprot:Q6LDW5,uniprot:Q6LDY4,uniprot:Q86VW7\"\t\"protein\"\n",
      "46\t\"uniprot:A6NM68\"\t\"ETS2\"\t\t\"uniprot:D3DSH6,uniprot:P15036,uniprot:Q53Y89\"\t\"protein\"\n",
      "47\t\"ETS\"\t\"ETS\"\t\t\t\"protein\"\n",
      "48\t\"uniprot:B5A956\"\t\"KIT\"\t\t\"uniprot:D5LXN2,uniprot:D5M931,uniprot:F5H8F8,uniprot:P10721,uniprot:Q6IQ28,uniprot:Q99662,uniprot:Q9UM99\"\t\"protein\"\n",
      "49\t\"uniprot:Q8IX07\"\t\"ZFPM1\"\t\t\t\"protein\"\n",
      "50\t\"uniprot:P23771\"\t\"GATA3\"\t\t\"uniprot:Q5VWG7,uniprot:Q5VWG8,uniprot:Q96J16\"\t\"protein\"\n",
      "51\t\"uniprot:P09488\"\t\"GSTM1\"\t\t\"uniprot:Q5GHG0,uniprot:Q6FH88,uniprot:Q8TC98,uniprot:Q9UC96\"\t\"protein\"\n",
      "52\t\"cas:86-01-1\"\t\"GTP\"\t\t\t\"smallmolecule\"\n",
      "56\t\"RAS family\"\t\"RAS family\"\t\"hgnc.symbol:HRAS,hgnc.symbol:KRAS,hgnc.symbol:NRAS\"\t\t\"proteinfamily\"\n",
      "57\t\"uniprot:B2RD56\"\t\"H2AFZ\"\t\t\"uniprot:P0C0S5,uniprot:P17317,uniprot:Q6I9U0\"\t\"protein\"\n",
      "58\t\"uniprot:Q75MR7\"\t\"HIPK2\"\t\t\"uniprot:Q8WWI4,uniprot:Q9H2X6,uniprot:Q9H2Y1\"\t\"protein\"\n",
      "59\t\"uniprot:B2RE27\"\t\"MAP3K7\"\t\t\"uniprot:E1P523,uniprot:O43317,uniprot:O43318,uniprot:O43319,uniprot:Q5TDN2,uniprot:Q5TDN3,uniprot:Q5TDT7,uniprot:Q9NTR3,uniprot:Q9NZ70\"\t\"protein\"\n",
      "60\t\"uniprot:B2RCX1\"\t\"NLK\"\t\t\"uniprot:Q2PNI9,uniprot:Q6P2A3,uniprot:Q9UBE8\"\t\"protein\"\n",
      "61\t\"TAB family\"\t\"TAB family\"\t\"hgnc.symbol:TAB1,hgnc.symbol:TAB2\"\t\t\"proteinfamily\"\n",
      "64\t\"uniprot:B0QZ61\"\t\"HSPA5\"\t\t\"uniprot:P11021,uniprot:Q2EF78,uniprot:Q9NPF1,uniprot:Q9UK02\"\t\"protein\"\n",
      "65\t\"uniprot:P11142\"\t\"HSPA8\"\t\t\"uniprot:Q9H3R6\"\t\"protein\"\n",
      "66\t\"uniprot:A7MBM3\"\t\"IQGAP1\"\t\t\"uniprot:P46940\"\t\"protein\"\n",
      "67\t\"uniprot:A0AV09\"\t\"KITLG\"\t\t\"uniprot:A8K2Q4,uniprot:B7ZLM4,uniprot:P21583,uniprot:Q16487,uniprot:Q68DZ2,uniprot:Q7M4N8,uniprot:Q9UQK7\"\t\"protein\"\n",
      "68\t\"uniprot:B4DG38\"\t\"LEF1\"\t\t\"uniprot:B7Z8E2,uniprot:E9PDK3,uniprot:Q3ZCU4,uniprot:Q9HAZ0,uniprot:Q9UJU2\"\t\"protein\"\n",
      "69\t\"uniprot:A3QVP6\"\t\"PAX5\"\t\t\"uniprot:A3QVP7,uniprot:A3QVP8,uniprot:C0KTF6,uniprot:C0KTF7,uniprot:C0KTF8,uniprot:C0KTF9,uniprot:C0KTG0,uniprot:O75933,uniprot:Q02548,uniprot:Q5SFM2,uniprot:Q6S728,uniprot:Q6S729,uniprot:Q6S730,uniprot:Q6S731,uniprot:Q6S732\"\t\"protein\"\n",
      "70\t\"uniprot:A8K9E9\"\t\"RAG2\"\t\t\"uniprot:P55895,uniprot:Q8TBL4\"\t\"protein\"\n",
      "71\t\"uniprot:B3KR41\"\t\"MAD1L1\"\t\t\"uniprot:Q13312,uniprot:Q75MI0,uniprot:Q86UM4,uniprot:Q9UNH0,uniprot:Q9Y6D9\"\t\"protein\"\n",
      "72\t\"uniprot:P04628\"\t\"WNT1\"\t\t\"uniprot:Q5U0N2\"\t\"protein\"\n",
      "73\t\"uniprot:A8K511\"\t\"MAT2A\"\t\t\"uniprot:B4DN45,uniprot:D6W5L1,uniprot:P31153,uniprot:Q53SP5\"\t\"protein\"\n",
      "74\t\"uniprot:E4Z9M7\"\t\"SP1\"\t\t\"uniprot:G5E9M8,uniprot:P08047,uniprot:Q86TN8,uniprot:Q9H3Q5,uniprot:Q9NR51,uniprot:Q9NY21,uniprot:Q9NYE7\"\t\"protein\"\n",
      "75\t\"uniprot:P33991\"\t\"MCM4\"\t\t\"uniprot:Q8NEH1,uniprot:Q99658\"\t\"protein\"\n",
      "76\t\"uniprot:A1L4B8\"\t\"MPO\"\t\t\"uniprot:P05164,uniprot:Q14862,uniprot:Q4PJH5,uniprot:Q9UCL7\"\t\"protein\"\n",
      "77\t\"uniprot:A8WFE7\"\t\"MYC\"\t\t\"uniprot:P01106,uniprot:P01107,uniprot:Q14026\"\t\"protein\"\n",
      "78\t\"uniprot:B3DLF8\"\t\"NCOR1\"\t\t\"uniprot:E9PGV6,uniprot:O75376,uniprot:Q86YY0,uniprot:Q9UPV5,uniprot:Q9UQ18\"\t\"protein\"\n",
      "79\t\"uniprot:Q9UFI3\"\t\"PIAS3\"\t\t\"uniprot:Q9Y6X2\"\t\"protein\"\n",
      "80\t\"uniprot:B2R9V2\"\t\"PPID\"\t\t\"uniprot:Q08752\"\t\"protein\"\n",
      "81\t\"uniprot:A1A441\"\t\"PPP3CA\"\t\t\"uniprot:A8K3B7,uniprot:A8W6Z7,uniprot:A8W6Z8,uniprot:B5BUA2,uniprot:Q08209,uniprot:Q8TAW9\"\t\"protein\"\n",
      "82\t\"uniprot:Q5TFZ7\"\t\"PTCRA\"\t\t\"uniprot:Q6ISU1\"\t\"protein\"\n",
      "83\t\"uniprot:A8K802\"\t\"PTGS2\"\t\t\"uniprot:P35354,uniprot:Q16876\"\t\"protein\"\n",
      "84\t\"uniprot:B2RNS5\"\t\"SIN3A\"\t\t\"uniprot:Q8N8N4,uniprot:Q8NC83,uniprot:Q8WV18,uniprot:Q96L98,uniprot:Q96ST3,uniprot:Q9UFQ1\"\t\"protein\"\n",
      "85\t\"uniprot:P12755\"\t\"SKI\"\t\t\"uniprot:Q5SYT7\"\t\"protein\"\n",
      "86\t\"uniprot:A8K9H5\"\t\"SLC1A5\"\t\t\"uniprot:B4DR77,uniprot:B4DWS4,uniprot:B7ZB81,uniprot:D0EYG6,uniprot:E9PC01,uniprot:O95720,uniprot:Q15758,uniprot:Q96RL9,uniprot:Q9BWQ3,uniprot:Q9UNP2\"\t\"protein\"\n",
      "87\t\"uniprot:B3KS34\"\t\"SLC25A3\"\t\t\"uniprot:Q00325,uniprot:Q7Z7N7,uniprot:Q96A03\"\t\"protein\"\n",
      "88\t\"uniprot:B2R8X5\"\t\"TFEC\"\t\t\"uniprot:O14948,uniprot:Q5H9U8,uniprot:Q709A4,uniprot:Q8N6J9\"\t\"protein\"\n",
      "89\t\"uniprot:B7Z8K6\"\t\"TRDC\"\t\t\t\"protein\"\n",
      "90\t\"uniprot:O00677\"\t\"TRIM28\"\t\t\"uniprot:Q13263,uniprot:Q7Z632,uniprot:Q93040,uniprot:Q96IM1\"\t\"protein\"\n",
      "91\t\"uniprot:D3DU69\"\t\"UBE2I\"\t\t\"uniprot:P50550,uniprot:P63279,uniprot:Q15698,uniprot:Q59GX1,uniprot:Q86VB3\"\t\"protein\"\n",
      "92\t\"uniprot:O95619\"\t\"YEATS4\"\t\t\"uniprot:Q9NQD0\"\t\"protein\"\n",
      "\n"
     ]
    }
   ],
   "source": [
    "print (r.text)"
   ]
  },
  {
   "cell_type": "markdown",
   "metadata": {},
   "source": [
    "Read the response into Panda:"
   ]
  },
  {
   "cell_type": "code",
   "execution_count": 6,
   "metadata": {},
   "outputs": [
    {
     "name": "stdout",
     "output_type": "stream",
     "text": [
      "    id      represents     name member  \\\n",
      "0    0  uniprot:P00813      ADA    NaN   \n",
      "1    1  uniprot:E9PI07      MYB    NaN   \n",
      "2    2  uniprot:P29275  ADORA2B    NaN   \n",
      "3    3  uniprot:P15144    ANPEP    NaN   \n",
      "4    4  uniprot:A9UL17     ETS1    NaN   \n",
      "..  ..             ...      ...    ...   \n",
      "83  88  uniprot:B2R8X5     TFEC    NaN   \n",
      "84  89  uniprot:B7Z8K6     TRDC    NaN   \n",
      "85  90  uniprot:O00677   TRIM28    NaN   \n",
      "86  91  uniprot:D3DU69    UBE2I    NaN   \n",
      "87  92  uniprot:O95619   YEATS4    NaN   \n",
      "\n",
      "                                                alias     type  \n",
      "0                       uniprot:Q53F92,uniprot:Q6LA59  protein  \n",
      "1   uniprot:E9PLZ5,uniprot:E9PNA4,uniprot:E9PNL6,u...  protein  \n",
      "2                                                 NaN  protein  \n",
      "3   uniprot:Q16728,uniprot:Q6GT90,uniprot:Q8IUK3,u...  protein  \n",
      "4   uniprot:F5GYX9,uniprot:P14921,uniprot:Q14278,u...  protein  \n",
      "..                                                ...      ...  \n",
      "83  uniprot:O14948,uniprot:Q5H9U8,uniprot:Q709A4,u...  protein  \n",
      "84                                                NaN  protein  \n",
      "85  uniprot:Q13263,uniprot:Q7Z632,uniprot:Q93040,u...  protein  \n",
      "86  uniprot:P50550,uniprot:P63279,uniprot:Q15698,u...  protein  \n",
      "87                                     uniprot:Q9NQD0  protein  \n",
      "\n",
      "[88 rows x 6 columns]\n"
     ]
    }
   ],
   "source": [
    "df = pd.read_csv(io.StringIO(r.text),sep='\\t')\n",
    "print (df)"
   ]
  },
  {
   "cell_type": "markdown",
   "metadata": {},
   "source": [
    "### Customized node table -- pick your node attributes\n",
    "\n",
    "Export node name, type and member"
   ]
  },
  {
   "cell_type": "code",
   "execution_count": 7,
   "metadata": {},
   "outputs": [
    {
     "name": "stdout",
     "output_type": "stream",
     "text": [
      "    id     name     type member\n",
      "0    0      ADA  protein    NaN\n",
      "1    1      MYB  protein    NaN\n",
      "2    2  ADORA2B  protein    NaN\n",
      "3    3    ANPEP  protein    NaN\n",
      "4    4     ETS1  protein    NaN\n",
      "..  ..      ...      ...    ...\n",
      "83  88     TFEC  protein    NaN\n",
      "84  89     TRDC  protein    NaN\n",
      "85  90   TRIM28  protein    NaN\n",
      "86  91    UBE2I  protein    NaN\n",
      "87  92   YEATS4  protein    NaN\n",
      "\n",
      "[88 rows x 4 columns]\n"
     ]
    }
   ],
   "source": [
    "r = requests.get('https://test.ndexbio.org/v3/networks/d1258a93-c81c-11eb-9060-0660b7976219/export?type=node&nodeattributes=name,type,member')\n",
    "\n",
    "df = pd.read_csv(io.StringIO(r.text),sep='\\t')\n",
    "print (df)"
   ]
  },
  {
   "cell_type": "markdown",
   "metadata": {},
   "source": [
    "### Get the edge table\n",
    "\n",
    "1. Full edge table"
   ]
  },
  {
   "cell_type": "code",
   "execution_count": 8,
   "metadata": {},
   "outputs": [
    {
     "name": "stdout",
     "output_type": "stream",
     "text": [
      "      id  source_id  target_id                  interaction         citation  \\\n",
      "0      6          7          1             chemical-affects  pubmed:11290610   \n",
      "1     15         16         17              in-complex-with              NaN   \n",
      "2     20         16          1              in-complex-with              NaN   \n",
      "3     28         17          1              in-complex-with              NaN   \n",
      "4     30         18         16     controls-state-change-of  pubmed:15687240   \n",
      "..   ...        ...        ...                          ...              ...   \n",
      "141  376         56         30     controls-state-change-of   pubmed:9809063   \n",
      "142  377          1         56       controls-expression-of   pubmed:9244354   \n",
      "143  387         59         61              in-complex-with              NaN   \n",
      "144  388         61         58  controls-phosphorylation-of  pubmed:15082531   \n",
      "145  389         72         61     controls-state-change-of  pubmed:15082531   \n",
      "\n",
      "     directed  \n",
      "0        True  \n",
      "1       False  \n",
      "2       False  \n",
      "3       False  \n",
      "4        True  \n",
      "..        ...  \n",
      "141      True  \n",
      "142      True  \n",
      "143     False  \n",
      "144      True  \n",
      "145      True  \n",
      "\n",
      "[146 rows x 6 columns]\n"
     ]
    }
   ],
   "source": [
    "r = requests.get('https://test.ndexbio.org/v3/networks/d1258a93-c81c-11eb-9060-0660b7976219/export?type=edge')\n",
    "\n",
    "df = pd.read_csv(io.StringIO(r.text),sep='\\t')\n",
    "print (df)\n",
    "\n"
   ]
  },
  {
   "cell_type": "markdown",
   "metadata": {},
   "source": [
    "2. Adding node attributes to edge table. \n",
    " 1. adding node name"
   ]
  },
  {
   "cell_type": "code",
   "execution_count": 9,
   "metadata": {},
   "outputs": [
    {
     "name": "stdout",
     "output_type": "stream",
     "text": [
      "      id source_name target_name                  interaction  \\\n",
      "0      6        ATRA         MYB             chemical-affects   \n",
      "1     15       CCND1        CDK6              in-complex-with   \n",
      "2     20       CCND1         MYB              in-complex-with   \n",
      "3     28        CDK6         MYB              in-complex-with   \n",
      "4     30      CDKN1A       CCND1     controls-state-change-of   \n",
      "..   ...         ...         ...                          ...   \n",
      "141  376  RAS family        PIM1     controls-state-change-of   \n",
      "142  377         MYB  RAS family       controls-expression-of   \n",
      "143  387      MAP3K7  TAB family              in-complex-with   \n",
      "144  388  TAB family       HIPK2  controls-phosphorylation-of   \n",
      "145  389        WNT1  TAB family     controls-state-change-of   \n",
      "\n",
      "            citation  directed  \n",
      "0    pubmed:11290610      True  \n",
      "1                NaN     False  \n",
      "2                NaN     False  \n",
      "3                NaN     False  \n",
      "4    pubmed:15687240      True  \n",
      "..               ...       ...  \n",
      "141   pubmed:9809063      True  \n",
      "142   pubmed:9244354      True  \n",
      "143              NaN     False  \n",
      "144  pubmed:15082531      True  \n",
      "145  pubmed:15082531      True  \n",
      "\n",
      "[146 rows x 6 columns]\n"
     ]
    }
   ],
   "source": [
    "r = requests.get('https://test.ndexbio.org/v3/networks/d1258a93-c81c-11eb-9060-0660b7976219/export?type=edge&nodekey=name')\n",
    "\n",
    "df = pd.read_csv(io.StringIO(r.text),sep='\\t')\n",
    "print (df)"
   ]
  },
  {
   "cell_type": "markdown",
   "metadata": {},
   "source": [
    " 2. Adding more node attributes -- node name and type"
   ]
  },
  {
   "cell_type": "code",
   "execution_count": 13,
   "metadata": {},
   "outputs": [
    {
     "name": "stdout",
     "output_type": "stream",
     "text": [
      "      id source_name target_name                  interaction  \\\n",
      "0      6        ATRA         MYB             chemical-affects   \n",
      "1     15       CCND1        CDK6              in-complex-with   \n",
      "2     20       CCND1         MYB              in-complex-with   \n",
      "3     28        CDK6         MYB              in-complex-with   \n",
      "4     30      CDKN1A       CCND1     controls-state-change-of   \n",
      "..   ...         ...         ...                          ...   \n",
      "141  376  RAS family        PIM1     controls-state-change-of   \n",
      "142  377         MYB  RAS family       controls-expression-of   \n",
      "143  387      MAP3K7  TAB family              in-complex-with   \n",
      "144  388  TAB family       HIPK2  controls-phosphorylation-of   \n",
      "145  389        WNT1  TAB family     controls-state-change-of   \n",
      "\n",
      "            citation  directed    source_type    target_type  \n",
      "0    pubmed:11290610      True  smallmolecule        protein  \n",
      "1                NaN     False        protein        protein  \n",
      "2                NaN     False        protein        protein  \n",
      "3                NaN     False        protein        protein  \n",
      "4    pubmed:15687240      True        protein        protein  \n",
      "..               ...       ...            ...            ...  \n",
      "141   pubmed:9809063      True  proteinfamily        protein  \n",
      "142   pubmed:9244354      True        protein  proteinfamily  \n",
      "143              NaN     False        protein  proteinfamily  \n",
      "144  pubmed:15082531      True  proteinfamily        protein  \n",
      "145  pubmed:15082531      True        protein  proteinfamily  \n",
      "\n",
      "[146 rows x 8 columns]\n"
     ]
    }
   ],
   "source": [
    "r = requests.get('https://test.ndexbio.org/v3/networks/d1258a93-c81c-11eb-9060-0660b7976219/export?type=edge&nodekey=name&nodeattributes=type')\n",
    "\n",
    "df = pd.read_csv(io.StringIO(r.text),sep='\\t')\n",
    "print (df)"
   ]
  },
  {
   "cell_type": "code",
   "execution_count": null,
   "metadata": {},
   "outputs": [],
   "source": []
  },
  {
   "cell_type": "code",
   "execution_count": null,
   "metadata": {},
   "outputs": [],
   "source": []
  }
 ],
 "metadata": {
  "kernelspec": {
   "display_name": "Python 3",
   "language": "python",
   "name": "python3"
  },
  "language_info": {
   "codemirror_mode": {
    "name": "ipython",
    "version": 3
   },
   "file_extension": ".py",
   "mimetype": "text/x-python",
   "name": "python",
   "nbconvert_exporter": "python",
   "pygments_lexer": "ipython3",
   "version": "3.8.11"
  }
 },
 "nbformat": 4,
 "nbformat_minor": 4
}
