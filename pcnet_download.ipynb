{
 "metadata": {
  "language_info": {
   "codemirror_mode": {
    "name": "ipython",
    "version": 3
   },
   "file_extension": ".py",
   "mimetype": "text/x-python",
   "name": "python",
   "nbconvert_exporter": "python",
   "pygments_lexer": "ipython3",
   "version": "3.8.8-final"
  },
  "orig_nbformat": 2,
  "kernelspec": {
   "name": "python3",
   "display_name": "Python 3.8.8 64-bit ('anaconda3': virtualenv)",
   "metadata": {
    "interpreter": {
     "hash": "dca0ade3e726a953b501b15e8e990130d2b7799f14cfd9f4271676035ebe5511"
    }
   }
  }
 },
 "nbformat": 4,
 "nbformat_minor": 2,
 "cells": [
  {
   "source": [
    "In this example, we \n",
    "- download the PCNet interactome\n",
    "- convert it to a Pandas dataframe\n",
    "- save it as .csv"
   ],
   "cell_type": "markdown",
   "metadata": {}
  },
  {
   "cell_type": "code",
   "execution_count": 3,
   "metadata": {},
   "outputs": [
    {
     "output_type": "stream",
     "name": "stdout",
     "text": [
      "Name: Updated PCNet v1.3\nNodes: 18820\nEdges: 2693250\nNode Attributes: 0\nEdge Attributes: 0\n\n"
     ]
    }
   ],
   "source": [
    "# Import the ndex2 NDEx client package\n",
    "import ndex2\n",
    "import pandas\n",
    "\n",
    "# The UUID of PCNet v1.3\n",
    "interactome_uuid='4de852d9-9908-11e9-bcaf-0ac135e8bacf'\n",
    "ndex_server='public.ndexbio.org'\n",
    "\n",
    "# No credentials are needed because this is a public network\n",
    "ndex_user=None\n",
    "ndex_password=None\n",
    "\n",
    "# This downloads the CX and converts it to the more convenient NiceCX dict. \n",
    "# It will take 20-60 seconds to download a network this size depending on your connection and processor.\n",
    "niceCX_PC = ndex2.create_nice_cx_from_server(\n",
    "            ndex_server, \n",
    "            username=ndex_user, \n",
    "            password=ndex_password, \n",
    "            uuid=interactome_uuid\n",
    "        )\n",
    "\n",
    "niceCX_PC.print_summary()"
   ]
  },
  {
   "source": [
    "The network is used to create a Pandas dataframe which provides tab-delimited, csv and excel export."
   ],
   "cell_type": "markdown",
   "metadata": {}
  },
  {
   "cell_type": "code",
   "execution_count": 4,
   "metadata": {},
   "outputs": [],
   "source": [
    "PC_df = niceCX_PC.to_pandas_dataframe()"
   ]
  },
  {
   "cell_type": "code",
   "execution_count": 6,
   "metadata": {},
   "outputs": [],
   "source": [
    "PC_df.to_csv(\"~/Desktop/pcnet_test.csv\")"
   ]
  },
  {
   "cell_type": "code",
   "execution_count": null,
   "metadata": {},
   "outputs": [],
   "source": []
  }
 ]
}