{
 "cells": [
  {
   "cell_type": "markdown",
   "metadata": {},
   "source": [
    "## Pathway Similarity Maps\n",
    "This notebook implements a protocol for creating networks that are \"similarity maps\" of the networks in a set or the subsystem networks in a hierarchical model. \n",
    "\n",
    "When a set is the input to the protocol, the networks are assumed to be interaction networks in which node names are gene symbols and/or where nodes have an attribute that is a list of gene symbols.\n",
    "\n",
    "When a hierarchical model is the input, each node must have an attribute that is a list of gene symbols\n",
    "\n",
    "In each case, the input is processed to create a list of gene lists. A similarity score is calculated for each pair of gene lists, creating a similarity matrix. A network is created from the matrix, filtering to include only edges above a specified threshold score.\n",
    "\n",
    "The network is then given a layout and a graphic style and saved to the user's account in NDEx."
   ]
  },
  {
   "cell_type": "markdown",
   "metadata": {},
   "source": [
    "## Setup: imports, NDEx user credentials, utilities."
   ]
  },
  {
   "cell_type": "code",
   "execution_count": 220,
   "metadata": {},
   "outputs": [],
   "source": [
    "from math import*\n",
    "import numpy as np\n",
    "import pandas as pd\n",
    "import ndex2\n",
    "import getpass\n",
    "import requests\n",
    "import io\n",
    "import igraph\n",
    "import networkx as nx\n",
    "import math\n",
    "\n",
    "from IPython.display import display, HTML"
   ]
  },
  {
   "cell_type": "code",
   "execution_count": 201,
   "metadata": {
    "tags": []
   },
   "outputs": [
    {
     "name": "stdout",
     "output_type": "stream",
     "text": [
      "········\n"
     ]
    }
   ],
   "source": [
    "# Watch out for typos and be sure to hit enter in the field to set the value!!!\n",
    "NDEXUSER = getpass.getpass()"
   ]
  },
  {
   "cell_type": "code",
   "execution_count": 202,
   "metadata": {},
   "outputs": [
    {
     "name": "stdout",
     "output_type": "stream",
     "text": [
      "········\n"
     ]
    }
   ],
   "source": [
    "# Watch out for typos and be sure to hit enter in the field to set the value!!!\n",
    "NDEXPASSWORD = getpass.getpass()"
   ]
  },
  {
   "cell_type": "code",
   "execution_count": 203,
   "metadata": {},
   "outputs": [
    {
     "name": "stdout",
     "output_type": "stream",
     "text": [
      "dexterpratt\n",
      "cytoscaperules\n"
     ]
    },
    {
     "data": {
      "text/plain": [
       "<ndex2.client.Ndex2 at 0x1fba241f880>"
      ]
     },
     "execution_count": 203,
     "metadata": {},
     "output_type": "execute_result"
    }
   ],
   "source": [
    "SERVER=\"http://www.ndexbio.org\"\n",
    "#This is used to create clickable links to view the networks in NDEx\n",
    "NETWORK_BASE_URL = 'http://ndexbio.org/viewer/networks/'\n",
    "print(NDEXUSER)\n",
    "print(NDEXPASSWORD)\n",
    "ndx=ndex2.Ndex2(SERVER, NDEXUSER, NDEXPASSWORD)\n",
    "ndx"
   ]
  },
  {
   "cell_type": "code",
   "execution_count": 207,
   "metadata": {},
   "outputs": [],
   "source": [
    "def describe_network_set(set):\n",
    "    display(HTML(\"<h2>\" + set.get(\"name\") + \"</h2>\"))\n",
    "    display(HTML(set.get(\"description\")))\n",
    "    for network_id in set.get(\"networks\"):\n",
    "        summary = ndx.get_network_summary(network_id)\n",
    "        display(HTML(\"<h4>\" + summary.get(\"name\") + \"</h4>\"))\n",
    "        if summary.get(\"description\"):\n",
    "            display(HTML(summary.get(\"description\")))\n"
   ]
  },
  {
   "cell_type": "markdown",
   "metadata": {},
   "source": [
    "## Part 1: Similarity Networks from Network Sets\n",
    "\n",
    "### Select a network set to process"
   ]
  },
  {
   "cell_type": "code",
   "execution_count": 206,
   "metadata": {},
   "outputs": [
    {
     "data": {
      "text/html": [
       "<h2>Signaling, Disease and Cancer Pathways</h2>"
      ],
      "text/plain": [
       "<IPython.core.display.HTML object>"
      ]
     },
     "metadata": {},
     "output_type": "display_data"
    },
    {
     "data": {
      "text/html": [
       "<p>This set contains  human pathways manually-curated from the literature by the SIGNOR Team at the University of Rome</p><p> <img src=\"https://signor.uniroma2.it/img/signor_logo.png\" alt=\"Figure 1\" width=\"200\"/></p>"
      ],
      "text/plain": [
       "<IPython.core.display.HTML object>"
      ]
     },
     "metadata": {},
     "output_type": "display_data"
    },
    {
     "data": {
      "text/html": [
       "<h4>Integrin Signaling</h4>"
      ],
      "text/plain": [
       "<IPython.core.display.HTML object>"
      ]
     },
     "metadata": {},
     "output_type": "display_data"
    },
    {
     "data": {
      "text/html": [
       "(from Wikipedia) Integrins play an important role in cell signaling by modulating the cell signaling pathways of transmembrane protein kinases such as receptor tyrosine kinases (RTK). While the interaction between integrin and receptor tyrosine kinases originally was thought of as uni-directional and supportive, recent studies indicate that integrins have additional, multi-faceted roles in cell signaling. Integrins can regulate the receptor tyrosine kinase signaling by recruiting specific adaptors to the plasma membrane. For example, β1c integrin recruits Gab1/Shp2 and presents Shp2 to IGF1R, resulting in dephosphorylation of the receptor.[19] In a reverse direction, when a receptor tyrosine kinase is activated, integrins co-localise at focal adhesion with the receptor tyrosine kinases and their associated signaling molecules. The repertoire of integrins expressed on a particular cell can specify the signaling pathway due to the differential binding affinity of ECM ligands for the integrins. The tissue stiffness and matrix composition can initiate specific signaling pathways regulating cell behavior. [...] Depending on the integrin's regulatory impact on specific receptor tyrosine kinases, the cell can experience: cell growth, cell division, cell survival, cellular differentiation, and apoptosis."
      ],
      "text/plain": [
       "<IPython.core.display.HTML object>"
      ]
     },
     "metadata": {},
     "output_type": "display_data"
    },
    {
     "data": {
      "text/html": [
       "<h4>Leptin Signaling</h4>"
      ],
      "text/plain": [
       "<IPython.core.display.HTML object>"
      ]
     },
     "metadata": {},
     "output_type": "display_data"
    },
    {
     "data": {
      "text/html": [
       "coming soon"
      ],
      "text/plain": [
       "<IPython.core.display.HTML object>"
      ]
     },
     "metadata": {},
     "output_type": "display_data"
    },
    {
     "data": {
      "text/html": [
       "<h4>Adipogenesis</h4>"
      ],
      "text/plain": [
       "<IPython.core.display.HTML object>"
      ]
     },
     "metadata": {},
     "output_type": "display_data"
    },
    {
     "data": {
      "text/html": [
       "The transition from precursor stem cells into mature adipocytes is a very complex and highly controlled process. Several molecules, pathways and signals are required to accomplish this orchestrated programme. Multiple signals can influence whether stem cells form adipocytes, including extracellular factors such as the bone morphogenetic proteins (BMP 2/4/7), insulin (INS) and hormones (Glucocorticoids). All these factors activate the Peroxisome proliferator-activated receptor gamma (PPARG), that promotes the maturation of adipocytes."
      ],
      "text/plain": [
       "<IPython.core.display.HTML object>"
      ]
     },
     "metadata": {},
     "output_type": "display_data"
    },
    {
     "data": {
      "text/html": [
       "<h4>Multiple sclerosis</h4>"
      ],
      "text/plain": [
       "<IPython.core.display.HTML object>"
      ]
     },
     "metadata": {},
     "output_type": "display_data"
    },
    {
     "data": {
      "text/html": [
       "coming soon"
      ],
      "text/plain": [
       "<IPython.core.display.HTML object>"
      ]
     },
     "metadata": {},
     "output_type": "display_data"
    },
    {
     "data": {
      "text/html": [
       "<h4>Acute Myeloid Leukemia</h4>"
      ],
      "text/plain": [
       "<IPython.core.display.HTML object>"
      ]
     },
     "metadata": {},
     "output_type": "display_data"
    },
    {
     "data": {
      "text/html": [
       "Regardless of its etiology, the pathogenesis of AML involves the abnormal proliferation and differentiation of a clonal population of myeloblasts in bone marrow. These proliferative, abnormally or poorly differentiated myeloid cells infiltrate bone marrow, blood and other tissues. According to the two-hits model, most cases of AML originate from combinations of two mutations that i) activate pro-proliferative pathways (FLT3, K/NRAS, STAT3, JAK2, ABL1 and KIT) or affect genomic stability or repair (NPM1, TP53) and ii) mutations impairing normal hematopoietic differentiation (CBF, MLL, EVI1/MECOM, TEL/ETV6, RARA,TET2, CEBPA) or DNA-methylation related genes (DNMT3A, TET2, IDH-1 and IDH-2). "
      ],
      "text/plain": [
       "<IPython.core.display.HTML object>"
      ]
     },
     "metadata": {},
     "output_type": "display_data"
    },
    {
     "data": {
      "text/html": [
       "<h4>AMPK Signaling</h4>"
      ],
      "text/plain": [
       "<IPython.core.display.HTML object>"
      ]
     },
     "metadata": {},
     "output_type": "display_data"
    },
    {
     "data": {
      "text/html": [
       "Maintaining a balanced level of ATP (the immediate source of cellular energy) is essential for the proper functioning of all living cells. AMP-activated protein kinase (AMPK) is a master regulator of cellular energy homeostasis: AMP-activated protein kinase (AMPK) is activated in response to a fall in ATP (concomitant with a rise in ADP and AMP) level, resulting in the activation of catabolic processes and the inhibition of anabolic processes."
      ],
      "text/plain": [
       "<IPython.core.display.HTML object>"
      ]
     },
     "metadata": {},
     "output_type": "display_data"
    },
    {
     "data": {
      "text/html": [
       "<h4>Autophagy</h4>"
      ],
      "text/plain": [
       "<IPython.core.display.HTML object>"
      ]
     },
     "metadata": {},
     "output_type": "display_data"
    },
    {
     "data": {
      "text/html": [
       "Autophagy is an homeostatic catabolic process by which cells digest their own components in response to internal or external cues, such as nutrient deprivation or infection. The autophagic process involves the formation of a complex machinery coordinated by the action of specific proteic components."
      ],
      "text/plain": [
       "<IPython.core.display.HTML object>"
      ]
     },
     "metadata": {},
     "output_type": "display_data"
    },
    {
     "data": {
      "text/html": [
       "<h4>PI3K/AKT Signaling</h4>"
      ],
      "text/plain": [
       "<IPython.core.display.HTML object>"
      ]
     },
     "metadata": {},
     "output_type": "display_data"
    },
    {
     "data": {
      "text/html": [
       "(From Wikipedia) The Akt Pathway, or PI3K-Akt Pathway is a signal transduction pathway that promotes survival and growth in response to extracellular signals. [...] Initial stimulation by one of the growth factors causes activation of a cell surface receptor and phosphorylation of PI3K. Activated PI3K then phosphorylates lipids on the plasma membrane, forming second messenger phosphatidylinositol (3,4,5)-trisphosphate (PIP3). Akt, a serine/threonine kinase, is recruited to the membrane by interaction with these phosphoinositide docking sites, so that it can be fully activated. Activated Akt mediates downstream responses, including cell survival, growth, proliferation, cell migration and angiogenesis, by phosphorylating a range of intracellular proteins. The pathway is present in all cells of higher eukaryotes and is highly conserved. "
      ],
      "text/plain": [
       "<IPython.core.display.HTML object>"
      ]
     },
     "metadata": {},
     "output_type": "display_data"
    },
    {
     "data": {
      "text/html": [
       "<h4>Colorectal Carcinoma</h4>"
      ],
      "text/plain": [
       "<IPython.core.display.HTML object>"
      ]
     },
     "metadata": {},
     "output_type": "display_data"
    },
    {
     "data": {
      "text/html": [
       "Colorectal Carcinoma (CRC) is an important contributor to cancer mortality and morbidity. Tow types of CRC can be distinguished: those characterized by microsatellite instability and those that are microsatellite stable but chromosomally unstable. Over the past decades, molecular genetic studies have revealed some critical mutations underlying the pathogenesis of the sporadic and inherited forms of CRC. A relatively limited number of oncogenes and tumor-suppressor genes—most prominently the APC, KRAS, and p53 genes—are mutated in a sizeable fraction of CRCs. The mutations act to dysregulate conserved signaling pathways (MAPK, PI3K, WNT and p53 pathways) that exert effects on critical cell phenotypes, including proliferation and survival"
      ],
      "text/plain": [
       "<IPython.core.display.HTML object>"
      ]
     },
     "metadata": {},
     "output_type": "display_data"
    },
    {
     "data": {
      "text/html": [
       "<h4>Death Receptor Signaling</h4>"
      ],
      "text/plain": [
       "<IPython.core.display.HTML object>"
      ]
     },
     "metadata": {},
     "output_type": "display_data"
    },
    {
     "data": {
      "text/html": [
       "The Death receptor (DR) signaling promotes apoptosis but, depending on the cellular context, it can also promote either prosurviaval and proinflammatory signaling pathways. There are six Tumor necrosis factor receptor (TNFR) family DR identified in human to date: Fas/CD-95, TNFR1, DR3, DR4, DR5, and DR6. These DR are activated by their respective ligands that also form a family of related molecules. The DRs initiate signaling by recruiting one of two platform adaptor molecules: FADD, that generally mediates apoptosis and/or TRADD, that engages both apoptotic and non-apoptotic signaling pathways. These adaptors in turn recruit distinct signaling complexes that mediates the downstream signaling events. This representation is focused on the signaling pathways downstream of DRs that directly promotes apoptosis, and describes pathways initiated by TNFR1 as the prototype of TRADD-mediated DR signaling (TNFR1, DR3, DR6) and Fas-activated pathways as the prototype of FADD-mediated DR signaling (FAS/CD-95, DR4, DR5). "
      ],
      "text/plain": [
       "<IPython.core.display.HTML object>"
      ]
     },
     "metadata": {},
     "output_type": "display_data"
    },
    {
     "data": {
      "text/html": [
       "<h4>TNF-alpha Signaling</h4>"
      ],
      "text/plain": [
       "<IPython.core.display.HTML object>"
      ]
     },
     "metadata": {},
     "output_type": "display_data"
    },
    {
     "data": {
      "text/html": [
       "The Tumor necrosis factor modulates a vast array of cell functions including inflammation, apoptosis, cell proliferation, immunity and differentiation. TNF alpha is mainly produced by macrophages."
      ],
      "text/plain": [
       "<IPython.core.display.HTML object>"
      ]
     },
     "metadata": {},
     "output_type": "display_data"
    },
    {
     "data": {
      "text/html": [
       "<h4>TGF-beta Signaling</h4>"
      ],
      "text/plain": [
       "<IPython.core.display.HTML object>"
      ]
     },
     "metadata": {},
     "output_type": "display_data"
    },
    {
     "data": {
      "text/html": [
       "The transforming growth factor beta (TGF-Beta) signaling pathway is involved in many cellular processes among which, the regulation of cell growth and differentiation. So, defects in TGF-Beta signaling pathways have been linked to uncontrolled cellular proliferation and carcinogenesis. Briefly, a TGF-Beta superfamily ligand induces the heteromeric complex formation of two serine/threonine kinase receptors, type I and type II TGF-Beta receptors. The type II receptor phosphorylates the type I receptor that, once activated, in turn phosphorylates downstream R-Smad proteins (in particular Smad2 and 3), activating them to transduce the signal to the nucleus with the help of the common partner Smad4 and thus participating in the regulation of target genes expression. Other members of the SMAD family of transcriptional regulators also participate in the regulation of the TGF-Beta signaling pathway. Moreover, other signaling pathways like the MAP kinase-ERK cascade are activated by TGF-Beta signaling."
      ],
      "text/plain": [
       "<IPython.core.display.HTML object>"
      ]
     },
     "metadata": {},
     "output_type": "display_data"
    },
    {
     "data": {
      "text/html": [
       "<h4>VEGF Signaling</h4>"
      ],
      "text/plain": [
       "<IPython.core.display.HTML object>"
      ]
     },
     "metadata": {},
     "output_type": "display_data"
    },
    {
     "data": {
      "text/html": [
       "From Wikipedia.Vascular endothelial growth factor (VEGF), originally known as vascular permeability factor (VPF),[1] is a signal protein produced by cells that stimulates the formation of blood vessels. To be specific, VEGF is a sub-family of growth factors, the platelet-derived growth factor family of cystine-knot growth factors. They are important signaling proteins involved in both vasculogenesis (the de novo formation of the embryonic circulatory system) and angiogenesis (the growth of blood vessels from pre-existing vasculature)"
      ],
      "text/plain": [
       "<IPython.core.display.HTML object>"
      ]
     },
     "metadata": {},
     "output_type": "display_data"
    },
    {
     "data": {
      "text/html": [
       "<h4>Hepatocellular Tumor</h4>"
      ],
      "text/plain": [
       "<IPython.core.display.HTML object>"
      ]
     },
     "metadata": {},
     "output_type": "display_data"
    },
    {
     "data": {
      "text/html": [
       "Hepatocellular carcinoma (HCC) is one of the most common primary malignant neoplasma of the liver, anche one of the most widespread tumors in the world with a poor prognosis. Hepatocarcinogenesis is a complex and multistep process, infact numerous signaling modules are compromised and they’re the cause of the tumor’s development and progression. Among these, the pathways that involve growth factors, such us insulin-like growth factor (IGF) or hepatocyte growth factor (HGF) are frequently found mutated in patients. Also HCC is characterized by an aberrant activation of the WNT signaling pathway. In vitro study has demonstrated that NRF2 activation preserves tumor cells from toxic exposure to reactive oxygen species and subsequent death, infact this protein promotes the expression of the anti-oxidant response genes (NQO1, HMOX1 and GSTA1). TERT promoter mutation are involved at the last step of malignant transformation; infact 90% of human HCCs harbor an increased telomerase expression. Most of the time,TERT mutations are correlated with CTNNB1 mutations, suggesting cooperation between telomerase maintenance and b-catenin pathway in liver tumorigenesis. In particoular lots of patients with HCC have got inactivating mutations of ARID1A/B (3%-18%), underlining the key role of SWI/SNF chromatin remodeling complexes as tumor suppressors; on the other hand, towards the last stages of the disease, MYC and AKT activation partecipate to improve the proliferation (in approximately 50% of HCCs)."
      ],
      "text/plain": [
       "<IPython.core.display.HTML object>"
      ]
     },
     "metadata": {},
     "output_type": "display_data"
    },
    {
     "data": {
      "text/html": [
       "<h4>Cell cycle: G1/S phase transition</h4>"
      ],
      "text/plain": [
       "<IPython.core.display.HTML object>"
      ]
     },
     "metadata": {},
     "output_type": "display_data"
    },
    {
     "data": {
      "text/html": [
       "Cell cycle progression is a tightly regulated process that depends on the expression and activation of positive and negative regulators of the cell cycle machinery. The primary G1/S cell cycle checkpoint controls the commitment through the G1 phase to enter into the DNA synthesis S phase. Before the passage of the restriction point, activation of CCND- and CCNE-dependent CDKs initiates a sequence of events that eventually leads to the initiation of a full cell cycle. Under favorable growth conditions, CDK4/6 associate with CCNDs, phosphorylate and inactivate pRB, allowing the release of E2F and the transcription of its target genes. Under stress conditions (e,g DNA damage), the activity of CDKs can be blocked by natural inhibitors, CKI, belonging either to the INK4 or the CIP families, resulting in cell cycle arrest."
      ],
      "text/plain": [
       "<IPython.core.display.HTML object>"
      ]
     },
     "metadata": {},
     "output_type": "display_data"
    },
    {
     "data": {
      "text/html": [
       "<h4>Macrophage polarization</h4>"
      ],
      "text/plain": [
       "<IPython.core.display.HTML object>"
      ]
     },
     "metadata": {},
     "output_type": "display_data"
    },
    {
     "data": {
      "text/html": [
       "Macrophages constitute a very heterogeneous population of phagocytic cells, involved in immune-related and non-immune related processes and therefore, depending upon their immediate environment, can have very distinct phenotypes. One of the most popular classification divides activated macrophages into 2 categories: M1, known as “pro-inflammatory” and M2, known as “anti-inflammatory” macrophages. M1s are induced by IFNg, microbial stimuli (such as PAMPs), or cytokines, while M2s are induced by IL4, Il10 and IL13. "
      ],
      "text/plain": [
       "<IPython.core.display.HTML object>"
      ]
     },
     "metadata": {},
     "output_type": "display_data"
    },
    {
     "data": {
      "text/html": [
       "<h4>Cell cycle: G2/M phase transition</h4>"
      ],
      "text/plain": [
       "<IPython.core.display.HTML object>"
      ]
     },
     "metadata": {},
     "output_type": "display_data"
    },
    {
     "data": {
      "text/html": [
       "Cell cycle progression is a tightly regulated process that depends on the expression and activation of positive and negative regulators of the cell cycle machinery. The term 'cell-cycle checkpoint' refers to mechanisms by which the cell actively halts progression through the cell cycle until it can ensure that an earlier process, such as DNA replication or mitosis, is complete. The G2 checkpoint (also known as the G2/M checkpoint) prevents cells from initiating mitosis when they experience DNA damage during G2, or when they progress into G2 with some unrepaired damage inflicted during previous phases (S or G1). The critical target of the G2 checkpoint is the mitosis-promoting activity of the cyclin B/CDK1 kinase, whose activation after various stresses is inhibited by ATM/ATR, CHK1/CHK2 and/or degradation and/or inhibition of the CDC25 family of phosphatases that normally activate CDK1 at the G2/M boundary (Kastan and Bartek, 2004). "
      ],
      "text/plain": [
       "<IPython.core.display.HTML object>"
      ]
     },
     "metadata": {},
     "output_type": "display_data"
    },
    {
     "data": {
      "text/html": [
       "<h4>Glioblastoma Multiforme</h4>"
      ],
      "text/plain": [
       "<IPython.core.display.HTML object>"
      ]
     },
     "metadata": {},
     "output_type": "display_data"
    },
    {
     "data": {
      "text/html": [
       "Glioblastoma Multiforme (GBM) is one of the most common and aggresive type of brain cancers. Ninetyseven percent of tumors belong to the 'classical' subtype, and carry extra copies of the epidermal growth factor receptor (EGFR) gene, and most have higher than normal expression of epidermal growth factor receptor (EGFR), whereas the gene TP53, which is often mutated in glioblastoma, is rarely mutated in this subtype. Downstream signaling of many RTKs, including EGFR, lead to activation of the PI3K/AKT/mTOR and RAS/RAF/MAPK secondary messenger systems. Dysregulation of these intracellular signaling pathways often occurs in GBM.PTEN is an endogenous inhibitor of PI3K and RAS, and it is often lost or mutated in GBM. Other signaling molecules in the PI3K and RAS pathways are also commonly mutated in GBM. These alterations further contribute to inappropriate P13K and RAS activity in GBM."
      ],
      "text/plain": [
       "<IPython.core.display.HTML object>"
      ]
     },
     "metadata": {},
     "output_type": "display_data"
    },
    {
     "data": {
      "text/html": [
       "<h4>Non-small-cell lung cancer (NSCLC)</h4>"
      ],
      "text/plain": [
       "<IPython.core.display.HTML object>"
      ]
     },
     "metadata": {},
     "output_type": "display_data"
    },
    {
     "data": {
      "text/html": [
       "Non-small-cell lung cancer (NSCLC) is the most common type of lung cancer (approximately 85%)."
      ],
      "text/plain": [
       "<IPython.core.display.HTML object>"
      ]
     },
     "metadata": {},
     "output_type": "display_data"
    },
    {
     "data": {
      "text/html": [
       "<h4>Hippo Signaling</h4>"
      ],
      "text/plain": [
       "<IPython.core.display.HTML object>"
      ]
     },
     "metadata": {},
     "output_type": "display_data"
    },
    {
     "data": {
      "text/html": [
       "The Hippo pathway controls organ size in diverse species by regulating cell proliferation, apoptosis, and stem cell self renewal. Actin cytoskeleton or cellular tension appears to be the master mediator that integrates and transmits upstream signals to the core Hippo signaling cascade."
      ],
      "text/plain": [
       "<IPython.core.display.HTML object>"
      ]
     },
     "metadata": {},
     "output_type": "display_data"
    },
    {
     "data": {
      "text/html": [
       "<h4>Pancreatic ductal adenocarcinoma (PDA)</h4>"
      ],
      "text/plain": [
       "<IPython.core.display.HTML object>"
      ]
     },
     "metadata": {},
     "output_type": "display_data"
    },
    {
     "data": {
      "text/html": [
       "Pancreatic ductal adenocarcinoma (PDA) is the predominant form of pancreatic cancer. It is particularly heterogeneous. Normal duct epithelium progresses to infiltrating cancer through a series of histologically defined precursors. The overexpression of HER-2/neu and activating point mutations in the KRAS gene occur early, inactivation of the CKN2A gene (p16INK and p19ARF) at an intermediate stage, and the inactivation of p53, SMAD4, and BRCA2 occur relatively late. Also RAF mutations are found, but BRAF and KRAS gene mutations are mutually exclusive. Other mutated oncogenes are AKT1 or AKT2. Other tumor suppressors: CDKN2B and FHIT."
      ],
      "text/plain": [
       "<IPython.core.display.HTML object>"
      ]
     },
     "metadata": {},
     "output_type": "display_data"
    },
    {
     "data": {
      "text/html": [
       "<h4>Inhibition of Apoptosis</h4>"
      ],
      "text/plain": [
       "<IPython.core.display.HTML object>"
      ]
     },
     "metadata": {},
     "output_type": "display_data"
    },
    {
     "data": {
      "text/html": [
       "Apoptosis needs to be tightly regulated. Survival signals such as growth factors activates pathways that inhibit pro-apoptotic proteins and activates anti-apoptotic factors."
      ],
      "text/plain": [
       "<IPython.core.display.HTML object>"
      ]
     },
     "metadata": {},
     "output_type": "display_data"
    },
    {
     "data": {
      "text/html": [
       "<h4>Luminal Breast Cancer</h4>"
      ],
      "text/plain": [
       "<IPython.core.display.HTML object>"
      ]
     },
     "metadata": {},
     "output_type": "display_data"
    },
    {
     "data": {
      "text/html": [
       "Breast cancer is the most frequently occurring cancer in women in the developed world, with oestrogen receptor (ER)-positive disease representing around two- thirds of all cases. In this model we focus on ER-positive/HER2- negative breast cancer who results from mutations in four main signalling pathways: 1)PI3K/AKT/mTOR pathway; 2)cyclin D1 complex/Rb/E2F pathway; 3)TP53/MDM2 pathway; and 4) FGFR1 pathway. Genes from the PI3K/AKT/mTOR pathway are the most frequently mutated in luminal breast cancer; PI3K mutations are the most prevalent mutations and are identified in around 40% of cases; In luminal tumours, inhibition of the Rb protein is mediated through CCND1 (the gene coding for cyclin D1) or CDK4 amplification or overexpression, or loss of the endogenous CDK inhibitors (CDKN2A), these muatations prevent the inactivation of the E2F transcription factor, thus leading to cell cycle progression from G1 to S phase. The TCGA showed amplification of CCND1 in 29% of patients with luminal A tumours and in 58% of patients with luminal B tumours. Moreover, two-thirds of luminal B tumours may have defective p53 pathways, either through TP53 mutations or MDM2 amplification. Finally, FGFR signalling through FGF ligand dependent or independent activation has been implicated in oncogenesis, angiogenesis and treatment resistance in various tumour types. Indeed, FGFR1 amplification has been found in up to 10% of breast cancer tumours."
      ],
      "text/plain": [
       "<IPython.core.display.HTML object>"
      ]
     },
     "metadata": {},
     "output_type": "display_data"
    },
    {
     "data": {
      "text/html": [
       "<h4>Mitochondrial Control of Apoptosis</h4>"
      ],
      "text/plain": [
       "<IPython.core.display.HTML object>"
      ]
     },
     "metadata": {},
     "output_type": "display_data"
    },
    {
     "data": {
      "text/html": [
       "Apoptosis is a type of programmed cell death that allows the maintenance of cellular homeostasis. Mitochondrial membrane permeabilization represents a critical step in the regulation of intrinsic apoptosis, process that is mainly regulated by members of the Bcl2 family of proteins that can act as pro- or anti-apoptotic factors. "
      ],
      "text/plain": [
       "<IPython.core.display.HTML object>"
      ]
     },
     "metadata": {},
     "output_type": "display_data"
    },
    {
     "data": {
      "text/html": [
       "<h4>Malignant Melanoma</h4>"
      ],
      "text/plain": [
       "<IPython.core.display.HTML object>"
      ]
     },
     "metadata": {},
     "output_type": "display_data"
    },
    {
     "data": {
      "text/html": [
       "Melanoma is a skin cancer. It might exist as distinct subtypes associated with the activation of the MAPK and the PI3K pathways even if there is an association between distinct melanoma subtypes and molecular somatic events. Mucosal, acral, and to a lesser extent, lentigo malignant melanomas, can have increased copies of CDK4, and CCND1 (cyclinD), as well as mutations in KIT receptor. NRAS is mutated in about 18% of melanomas, and seems to be more frequently activated in nodular melanomas and melanomas due to chronic sun damage. BRAF has a recurrent V600E mutation (Gain of function) in about 50–70% of melanomas, however, this mutational event is frequently reported in benign pigmented naevi, and is not fully sufficient to induce a malignant transformation. MEK1 and MEK2 are downstream from RAS and RAF, on the same MAPK pathway. Activating mutations of MEK1 and MEK2 are found in 8% of melanomas. The PI3K pathway is activated through a PTEN loss-of-function mutation (most often deletion) in 20–40% of melanomas. Activating mutations or amplifications of PI3K or of AKT1 can also be found in some melanomas. "
      ],
      "text/plain": [
       "<IPython.core.display.HTML object>"
      ]
     },
     "metadata": {},
     "output_type": "display_data"
    },
    {
     "data": {
      "text/html": [
       "<h4>MTOR Signaling</h4>"
      ],
      "text/plain": [
       "<IPython.core.display.HTML object>"
      ]
     },
     "metadata": {},
     "output_type": "display_data"
    },
    {
     "data": {
      "text/html": [
       "The mammalian target of rapamycin (mTOR) signaling pathway couples energy and nutrient abundance to cellular growth. mTor is serine/threonine kinase acting in two complexes (mTORC1 and mTORC2) which exert their actions by regulating other important kinases, such as S6K and Akt. In particular, mTORC1 integrates multiple signals reflecting nutrients' availability or deprivation promoting cellular growth or catabolic processes respectively."
      ],
      "text/plain": [
       "<IPython.core.display.HTML object>"
      ]
     },
     "metadata": {},
     "output_type": "display_data"
    },
    {
     "data": {
      "text/html": [
       "<h4>NF-KB Canonical</h4>"
      ],
      "text/plain": [
       "<IPython.core.display.HTML object>"
      ]
     },
     "metadata": {},
     "output_type": "display_data"
    },
    {
     "data": {
      "text/html": [
       "The NF-kB family of transcription factors plays important roles in the immune system. Two signaling pathways lead to the activation of NF-kB, known as the classical (canonical) pathway and the non-canonical (alternative) pathway. The common regulatory step is activation of an IkB kinase (IKK) complex consisting of catalytic kinase subunits (IKKalpha and/or IKKbeta) and the regulatory non-enzymatic scaffold protein NEMO (NF-kB essential modulator also known as IKKgamma). Activation of NF-kB dimers is due to IKK-mediated phosphorylation-induced proteasomal degradation of IkB, enabling the active NF-kB transcription factor subunits to translocate to the nucleus and induce target gene expression. The canonical NF-kB pathway is induced by several signals including antigens, TLR ligands and cytokines such as TNF. It uses a wide variety of signaling adaptors to engage and activate the IKKbeta subunit of the IKK complex. IKKbeta phosphorylation of classical IkB proteins bound to NF-kB dimers such as p50-p65 results in ubiquitination (Ub) of IkB and proteasome-induced degradation."
      ],
      "text/plain": [
       "<IPython.core.display.HTML object>"
      ]
     },
     "metadata": {},
     "output_type": "display_data"
    },
    {
     "data": {
      "text/html": [
       "<h4>NF-KB Non Canonical</h4>"
      ],
      "text/plain": [
       "<IPython.core.display.HTML object>"
      ]
     },
     "metadata": {},
     "output_type": "display_data"
    },
    {
     "data": {
      "text/html": [
       "The non-canonical pathway engaged by members of the TNF-like family of cytokines is responsible for the activation of p100/RelB complexes and occurs during the development of lymphoid organs responsible for the generation of B and T lymphocytes. This pathway utilizes an IKK complex that comprises two IKKalpha subunits, but not NEMO. Activated CHUK/IKKA homodimer phosphorylates NFKB2/p100 associated with RelB, inducing its proteolytic processing to NFKB2/p52 and the formation of NF-kappa-B RelB-p52 complexes. "
      ],
      "text/plain": [
       "<IPython.core.display.HTML object>"
      ]
     },
     "metadata": {},
     "output_type": "display_data"
    },
    {
     "data": {
      "text/html": [
       "<h4>NOTCH Signaling</h4>"
      ],
      "text/plain": [
       "<IPython.core.display.HTML object>"
      ]
     },
     "metadata": {},
     "output_type": "display_data"
    },
    {
     "data": {
      "text/html": [
       "Notch signaling is a highly conserved system of intracellular comunication, which is highly conserved in evolution, It plays a key role in embryonic development, stem cell differentiation, apoptosis and cell migration. "
      ],
      "text/plain": [
       "<IPython.core.display.HTML object>"
      ]
     },
     "metadata": {},
     "output_type": "display_data"
    },
    {
     "data": {
      "text/html": [
       "<h4>Alzheimer</h4>"
      ],
      "text/plain": [
       "<IPython.core.display.HTML object>"
      ]
     },
     "metadata": {},
     "output_type": "display_data"
    },
    {
     "data": {
      "text/html": [
       "Alzheimer's disease (AD) is one of the major causes of dementia, AD is a brain disorder affecting the elderly and is characterized by the formation of two main protein aggregates: senile plaques and neurofibrillary tangles, which are involved in the process leading to progressive neuronal degeneration and death. The senile plaques are generated by a deposition in the human brain of fibrils of the beta-amyloid peptide (Abeta), a fragment derived from the proteolytic processing of the amyloid precursor protein (APP). Tau protein is the major component of paired helical filaments (PHFs), which form a compact filamentous network described as neurofibrillary tangles (NFTs).Two main protein kinases have been shown to be involved in anomalous tau phosphorylations: the cyclin-dependent kinase Cdk5 and glycogen synthase kinase GSK3beta. Several different studies have provided evidence implicating oxidative stress, calcium balance and mitochondrial apoptotic pathways a as major pathogenic mechanism in AD."
      ],
      "text/plain": [
       "<IPython.core.display.HTML object>"
      ]
     },
     "metadata": {},
     "output_type": "display_data"
    },
    {
     "data": {
      "text/html": [
       "<h4>Noonan syndrome</h4>"
      ],
      "text/plain": [
       "<IPython.core.display.HTML object>"
      ]
     },
     "metadata": {},
     "output_type": "display_data"
    },
    {
     "data": {
      "text/html": [
       "Noonan syndrome is characterized by mildly unusual facial features, short stature, heart defects, bleeding problems, skeletal malformations.Mutations in the PTPN11 gene cause about half of all cases. SOS1 gene mutations cause an additional 10 to 15 percent, and RAF1 and RIT1 genes each account for about 5 percent of cases."
      ],
      "text/plain": [
       "<IPython.core.display.HTML object>"
      ]
     },
     "metadata": {},
     "output_type": "display_data"
    },
    {
     "data": {
      "text/html": [
       "<h4>P38 Signaling</h4>"
      ],
      "text/plain": [
       "<IPython.core.display.HTML object>"
      ]
     },
     "metadata": {},
     "output_type": "display_data"
    },
    {
     "data": {
      "text/html": [
       "This representation depicts some of the pathways leading to p38/MAPK14 activation during inflammation or upon TGF-beta stimulation. P38 is activated also in other circumstances such as DNA damage, heat shock, osmotic stress or myogenesis."
      ],
      "text/plain": [
       "<IPython.core.display.HTML object>"
      ]
     },
     "metadata": {},
     "output_type": "display_data"
    },
    {
     "data": {
      "text/html": [
       "<h4>Prostate Cancer</h4>"
      ],
      "text/plain": [
       "<IPython.core.display.HTML object>"
      ]
     },
     "metadata": {},
     "output_type": "display_data"
    },
    {
     "data": {
      "text/html": [
       "Prostate cancer (PC) is the most common male tumor. Usually is an indolent disease but about 30% of cases become aggressive; in case of metastatic cancer, about 70-80% of patients respond to androgen-deprivation therapy, but in later stages PC becomes hormone-independent and more aggressive resulting in the second cause of all male cancer deaths. PC is an heterogeneous and complex disease; it could be divided in two categories based on the presence/absence of genomic rearrangements that place proteins of the ETS transcription factor family, frequently ERG, under control of androgen responsive promoter TMPRSS2. Increased expression of ETS factors under control of AR promoter activates transcriptional program that contributes to oncogenesis by upregulating MYC and EZH2 proteins and repressing NKX3.1 ETS fusion proteins are found in 60% of PC, and the fusion-negative category could be divided into several subtype group. The most studied genomic alterations in PC affect : - the androgen receptor (AR) signalling pathway: AR plays a crucial role in the early development of PC and in its progression because of the lead role of androgen receptor transcriptional program in prostate epithelium cells. - PTEN mutations and/or deletions: PTEN is a phosphatase that acts as a tumor suppressor downregulating the PI3K-AKT signaling pathway which is essential for cell cycle progression and cell survival. - loss of function mutation of the tumor suppressor NKX3.1: this is an early event in prostate carcinogenesis. NKX3.1 and AR directly regulate each other in a loop and, together with FOXA1, are important regulators in PC progression. - point mutations in SPOP are common in primary PC. SPOP binds and promotes the degradation of SRC-3, an AR cofactor, whereas SPOP mutants lose this ability, leading to upregulated androgen signaling. "
      ],
      "text/plain": [
       "<IPython.core.display.HTML object>"
      ]
     },
     "metadata": {},
     "output_type": "display_data"
    },
    {
     "data": {
      "text/html": [
       "<h4>Fibrosis</h4>"
      ],
      "text/plain": [
       "<IPython.core.display.HTML object>"
      ]
     },
     "metadata": {},
     "output_type": "display_data"
    },
    {
     "data": {
      "text/html": [
       "Transforming growth factor-β1 (TGF-β1) is a crucial mediator of fibrosis by activating downstream small mother against decapentaplegic (Smad) signaling which triggers pro-fibrotic genes overexpression. Smad3 is the major downstream regulator that promote TGF-β mediated tissue fibrosis, while Smad7 protects against fibrosis inhibiting the TGF-β1/Smad pathway. The renin-angiotensin system (RAS) also controls the fibrotic process. "
      ],
      "text/plain": [
       "<IPython.core.display.HTML object>"
      ]
     },
     "metadata": {},
     "output_type": "display_data"
    },
    {
     "data": {
      "text/html": [
       "<h4>Focal segmental glomerulosclerosis</h4>"
      ],
      "text/plain": [
       "<IPython.core.display.HTML object>"
      ]
     },
     "metadata": {},
     "output_type": "display_data"
    },
    {
     "data": {
      "text/html": [
       "Focal segmental glomerulosclerosis (FSGS) is a cause of nephrotic syndrome in children and adolescents, as well as a leading cause of kidney failure in adults."
      ],
      "text/plain": [
       "<IPython.core.display.HTML object>"
      ]
     },
     "metadata": {},
     "output_type": "display_data"
    },
    {
     "data": {
      "text/html": [
       "<h4>Rhabdomyosarcoma</h4>"
      ],
      "text/plain": [
       "<IPython.core.display.HTML object>"
      ]
     },
     "metadata": {},
     "output_type": "display_data"
    },
    {
     "data": {
      "text/html": [
       "Rhabdomyosarcoma (RMS) is a relatively rare cancer but is the most common form of soft-tissue sarcomas in young adults children and children. RMS can originate as a consequence of myogenic precursors failing to differentiate into normal muscle and is characterised by two major subtypes, embryonal RMS (ERMS) and alveolar RMS (ARMS). ERMS is the most common form of the disease, comprises about 60% of cases, and has a more favourable outcome than ARMS. It’s characterized by a wide range of genetic aberrations and the most frequent is the loss of heterozygosity at the 11p15 locus, a region that encodes insulin-like growth factor 2 (IGF2). ARMS is the most aggressive form of RMS with a poorer prognosis and more prone to metastasis. It’s characterized by genetic translocations that result in chimeric protein that fuse the DNA binding domain of the paired box proteins 3 or 7 (PAX3 or PAX7) to the transactivation domain of a forkhead transcription factor (FOXO1). RMS display many defects in growth-factor signalling pathways and cell-cycle checkpoints that lead to cell growth and proliferation. The most frequently affected pathways are fibroblast growth factor (FGF), insulin-like growth factor (IGF), hepatocyte growth factor, and platelet-derived growth factor. PAX-FOXO1 proteins can activate these pathways by transcriptional activation of IGFR1, FGFR4, MET (c-Met) and PDGFRA genes. In 93% of RMS cases there is an alteration of the receptor tyrosine kinase/RAS/ PI3K axis and that alterations appeared to hinge on the FGF and IGF pathways. FGF and IGF pathways converge on cell-cycle regulators such as the cell-cycle regulator p21 (CDKN1A), and the cell-cycle regulator p14 (CDKN2A). p21 is induced in myoblast differentiation and blocks cell-cycle progression ; is regulated by MyoD and myogenin in normal muscle cells and the inactivation of these proteins in RMS contributes to the silencing of p21. p14 is tumour suppressor and copy number deletions in CDKN2A were found in 2% of the RMS cancers. TBX2, a T-box gene family member, is overexpressed in both ERMS and ARMS cells. it is regulated by PAX3 and was found to induce a downregulation of p14 and to be a direct repressor of p21 in RMS. "
      ],
      "text/plain": [
       "<IPython.core.display.HTML object>"
      ]
     },
     "metadata": {},
     "output_type": "display_data"
    },
    {
     "data": {
      "text/html": [
       "<h4>SAPK/JNK Signaling</h4>"
      ],
      "text/plain": [
       "<IPython.core.display.HTML object>"
      ]
     },
     "metadata": {},
     "output_type": "display_data"
    },
    {
     "data": {
      "text/html": [
       "Stress-activated protein kinases/c-Jun NH(2)-terminal kinases (SAPK/JNK) proteins are MAPK family members that are activated by several extracellular signals (i.e. inflammatory cytokines and growth factors) and cellular stress. When activated by cellular stress the SAPK/JNK pathway induces cell death by apoptosis. The SAPK/JNK pathway also plays a physiological role in embryonic development by regulating cell survival, apoptosis, and proliferation."
      ],
      "text/plain": [
       "<IPython.core.display.HTML object>"
      ]
     },
     "metadata": {},
     "output_type": "display_data"
    },
    {
     "data": {
      "text/html": [
       "<h4>Thyroid cancer</h4>"
      ],
      "text/plain": [
       "<IPython.core.display.HTML object>"
      ]
     },
     "metadata": {},
     "output_type": "display_data"
    },
    {
     "data": {
      "text/html": [
       "Thyroid cancer (TC) is the most common tumor of the endocrine system. The most frequent type of TC is papillary thyroid cancer (PTC), comprising 90% of all cases. The second most common type is follicular thyroid cancer (FTC) that accounts for 10% of total. PTCs and FTCs both arise from the thyroid follicular cells and are termed differentiated thyroid cancer (DTC). Medullary thyroid cancer (MTC) instead arises from the parafollicular C cells and represents 5% of all TCs. Finally, anaplastic thyroid cancer is one of the most aggressive TCs and can arise from DTCs that dedifferentiate or it can develop de-novo. Ionizing radiation is the only exogenous factor which has been identified as causing TC, mostly the papillary form. PCs frequently have genetic alterations leading to the activation of the MAPK signaling pathway like point mutations of the BRAF and RAS genes and RET/PTC rearrangement. BRAFV600E results in the constitutive activation of this serine/threonine kinase and occurs in approximately 45% of PTCs. Gene translocations resulting in oncogenic rearrangements in PC are best exemplified by more than 10 types of RET–PTC translocations resulting in oncoproteins that activate the MAPK and PI3K–AKT pathways. Most frequent alterations in FC include RAS mutations and PAX8-PARγ rearrangement. Point mutations of RET receptor are crucial for the development of medullary carcinomas. Many of these mutations, particularly those involved in the activation of the MAPK pathway, are being explored as therapeutic targets for thyroid cancer. "
      ],
      "text/plain": [
       "<IPython.core.display.HTML object>"
      ]
     },
     "metadata": {},
     "output_type": "display_data"
    },
    {
     "data": {
      "text/html": [
       "<h4>T cell activation</h4>"
      ],
      "text/plain": [
       "<IPython.core.display.HTML object>"
      ]
     },
     "metadata": {},
     "output_type": "display_data"
    },
    {
     "data": {
      "text/html": [
       "(From Wikipedia) T cells utilise the Src family kinases in transmembrane signalling largely to phosphorylate tyrosines that are part of immunoreceptor tyrosine-based activation motifs (ITAM) in intracellular parts of CD3 and ζ chains. Early signaling steps implicate the kinases lck an Fyn and Zap70 and the phosphatase CD45 after TCR triggering: When a T-cell receptor is activated by contact with a peptide:MHC complex, CD45 dephosphorylates inhibitory tyrosine of membrane-localized Src family kinases Fyn and Lck, previously recruited and activated by CD4 or CD8 coreceptors. Activated Fyn and Lck phosphorylates ITAMs on the CD3 and ζ chains. This allows cytoplasmic kinases of the Syk family (ZAP-70) to bind to the ITAM and activated ZAP-70 phosphorylates tyrosines on the adaptor protein LAT, which then attracts PLC-γ. "
      ],
      "text/plain": [
       "<IPython.core.display.HTML object>"
      ]
     },
     "metadata": {},
     "output_type": "display_data"
    },
    {
     "data": {
      "text/html": [
       "<h4>Toll like receptors</h4>"
      ],
      "text/plain": [
       "<IPython.core.display.HTML object>"
      ]
     },
     "metadata": {},
     "output_type": "display_data"
    },
    {
     "data": {
      "text/html": [
       "Toll-like receptors (TLRs) play a key role in the innate immune system. They are single, membrane-spanning, non-catalytic receptors usually expressed in sentinel cells such as macrophages and dendritic cells, that recognize structurally conserved molecules derived from microbes (PAMPs).TLRs are also involved in monitoring stress by recognizing molecules DAMPs that are released by cells under stress."
      ],
      "text/plain": [
       "<IPython.core.display.HTML object>"
      ]
     },
     "metadata": {},
     "output_type": "display_data"
    },
    {
     "data": {
      "text/html": [
       "<h4>WNT Signaling</h4>"
      ],
      "text/plain": [
       "<IPython.core.display.HTML object>"
      ]
     },
     "metadata": {},
     "output_type": "display_data"
    },
    {
     "data": {
      "text/html": [
       "The Wnt signaling pathway is a conserved pathway in animals, that directs cell proliferation, cell polarity and cell fate determination during embryonic development and tissue homeostasis. The extracellular Wnt signal stimulates several intra-cellular signal transduction cascades. The three best-characterized WNT pathways are shown: the canonical or Wnt/Beta-catenin dependent pathway and the non-canonical or Beta-catenin-independent pathway, that can be divided into the Planar Cell Polarity pathway, which is prominently involved in the regulation of cell polarity, cell motility and morphogenetic movements; and the Wnt/Ca2+ pathway, which regulates the transcription of genes controlling cell fate and cell migration."
      ],
      "text/plain": [
       "<IPython.core.display.HTML object>"
      ]
     },
     "metadata": {},
     "output_type": "display_data"
    },
    {
     "data": {
      "text/html": [
       "<h4>Parkinson</h4>"
      ],
      "text/plain": [
       "<IPython.core.display.HTML object>"
      ]
     },
     "metadata": {},
     "output_type": "display_data"
    },
    {
     "data": {
      "text/html": [
       "Parkinson disease (PD) is a neurodegenerative disorder, whose clinical manifestations include resting tremor, muscular rigidity and akinesia. PD is associated to the selective degeneration and death of dopaminergic neurons and is characterized by the deposition of abnormal protein aggregates called “Lewy bodies” in the surviving dopaminergic neurons. Alpha-synuclein is a major protein component of Lewy bodies and is found to be mutated or over-expressed in patients with PD. Other proteins that have been found to be mutated or over-expressed in PD are: Parkin, it is an E3 ubiquitin ligase that, in normal condition, ubiquitinates alpha-synuclein with its consequent proteasome-dependent degradation, mutations in Parkin gene lead to accumulation of alpha-synuclein; UCH-L1 is an Ubiquitin hydrolase that generates Ubiquitin monomers, necessary for the degradation of alpha-synuclein, mutant forms of UCH-L1 result in accumulation of alpha-synuclein; Mutations in DNAJC14 genes are associated with increased level of oxidative stress that predispose neurons to precipitate alpha-synuclein. "
      ],
      "text/plain": [
       "<IPython.core.display.HTML object>"
      ]
     },
     "metadata": {},
     "output_type": "display_data"
    },
    {
     "data": {
      "text/html": [
       "<h4>Complement Signaling</h4>"
      ],
      "text/plain": [
       "<IPython.core.display.HTML object>"
      ]
     },
     "metadata": {},
     "output_type": "display_data"
    },
    {
     "data": {
      "text/html": [
       "The complement system is an essential part of innate immunity. Three distinct activation pathways belong to the complement system: the classical, lectin, and alternative pathways. They all converge to the cleavage of C3 by C3 convertases. The downstream phases are common to the three pathways: opsonization, anaphylatoxin-mediated inflammation, and formation of terminal membrane attack complex. Classical and Lectin Pathways are shown. In the classical pathway, the cascade is initiated by the interaction between C1q and immunocomplexes, this lead to the activation of C1 that cleaves C4 to C4a and C4b, and C2 to C2a and C2b. In the lectin pathway, MBL and other ficolins are activated by pathogen molecules and up-regulate proteases MASP-1, MASP-2 that cleave intact C4 and C2. The C4b fragment combines with the lipid bilayer of the target cell and C2a to form the C3 convertase C2a4b."
      ],
      "text/plain": [
       "<IPython.core.display.HTML object>"
      ]
     },
     "metadata": {},
     "output_type": "display_data"
    },
    {
     "data": {
      "text/html": [
       "<h4>EGFR Signaling</h4>"
      ],
      "text/plain": [
       "<IPython.core.display.HTML object>"
      ]
     },
     "metadata": {},
     "output_type": "display_data"
    },
    {
     "data": {
      "text/html": [
       "The epidermal growth factor receptor (EGFR) signaling pathway regulates growth, survival, proliferation, and differentiation. The binding of extracellular ligands (EGF) induces homo and heterodimerization, transphosphorylation and activation of four ErbB family receptors: EGFR (ErbB1), ErbB2, ErbB3, and ErbB4. These events trigger a cascade of activation of downstream pathways that include, principally, the MAPK, Akt and JNK pathways, culminating in DNA synthesis and cell proliferation."
      ],
      "text/plain": [
       "<IPython.core.display.HTML object>"
      ]
     },
     "metadata": {},
     "output_type": "display_data"
    },
    {
     "data": {
      "text/html": [
       "<h4>Glucocorticoid receptor Signaling</h4>"
      ],
      "text/plain": [
       "<IPython.core.display.HTML object>"
      ]
     },
     "metadata": {},
     "output_type": "display_data"
    },
    {
     "data": {
      "text/html": [
       "Glucocorticoids are steroid hormones involved in various metabolic and homeostatic functions. They are synthesized by the adrenal cortex and their physiological and pharmacological actions are mediated through binding with the glucocorticoid receptor (GR). The glucocorticoid receptor, also known as NR3C1, translocates in the nucleus and modulates, positively or negatively, the transcription of thousands of genes by direct binding to DNA response elements and/or by physically associating with other transcription factors."
      ],
      "text/plain": [
       "<IPython.core.display.HTML object>"
      ]
     },
     "metadata": {},
     "output_type": "display_data"
    },
    {
     "data": {
      "text/html": [
       "<h4>Sonic Hedgehog</h4>"
      ],
      "text/plain": [
       "<IPython.core.display.HTML object>"
      ]
     },
     "metadata": {},
     "output_type": "display_data"
    },
    {
     "data": {
      "text/html": [
       "Hedgehog (Hh) signaling is fundamental during embryonic patterning and postnatal physiology. During development embryonic cells require a proper secretion and gradient diffusion of the vertebrate Hedgehog-family ligands, including Sonic, Desert, and Indian Hedgehog target genes."
      ],
      "text/plain": [
       "<IPython.core.display.HTML object>"
      ]
     },
     "metadata": {},
     "output_type": "display_data"
    },
    {
     "data": {
      "text/html": [
       "<h4>Innate Immune Response</h4>"
      ],
      "text/plain": [
       "<IPython.core.display.HTML object>"
      ]
     },
     "metadata": {},
     "output_type": "display_data"
    },
    {
     "data": {
      "text/html": [
       "The innate immune response pathway is activated in response to pathogens by sensing molecules that reside in the cytoplasm of host cells. Once these sensors are activated, they interact with the mitochondrial membrane protein MAVS (mitochondrial antiviral) which in turn stimulates the activation of the TBK1 and IKKɛ kinases. Once activated, these kinases upregulate the activity of crucial transcription factors including interferon regulatory factor 3 (IRF3) and nuclear factor kappa-light-chain-enhancer of activated B cells (NF-κB). Both IRF3 and NF-kB synergistically promote the immune response and the production of type I interferons (IFN-Is). Several viral and bacterial proteins have been shown to modulate this response. "
      ],
      "text/plain": [
       "<IPython.core.display.HTML object>"
      ]
     },
     "metadata": {},
     "output_type": "display_data"
    },
    {
     "data": {
      "text/html": [
       "<h4>IL1 Signaling </h4>"
      ],
      "text/plain": [
       "<IPython.core.display.HTML object>"
      ]
     },
     "metadata": {},
     "output_type": "display_data"
    },
    {
     "data": {
      "text/html": [
       "Interleukin-1 (IL-1) is a proinflammatory cytokine produced by activated macrophages, endothelial cells, B cells and fibroblasts. IL-1 play a central role in inflammation and host defence against infection. The signalling pathways involve two adapter proteins, MyD88 and Tollip, which via two IL-1 receptor-associated kinases (IRAK and IRAK-2) activate transcription factors such as nuclear factor-kappa B."
      ],
      "text/plain": [
       "<IPython.core.display.HTML object>"
      ]
     },
     "metadata": {},
     "output_type": "display_data"
    },
    {
     "data": {
      "text/html": [
       "<h4>IL6 Signaling</h4>"
      ],
      "text/plain": [
       "<IPython.core.display.HTML object>"
      ]
     },
     "metadata": {},
     "output_type": "display_data"
    },
    {
     "data": {
      "text/html": [
       "IL(Interleukin)-6 is a pleiotropic cytokine playing a role in many physiological and pathological processes, including inflammation, hematopoiesis, and oncogenesis It participates in the regulation of cell growth, gene activation, proliferation, survival, and differentiation. IL-6 belongs to a family of related cytokines that includes leukemia inhibitory factor (LIF), oncostatin M (OSM), cardiotrophin-1 (CTF1), ciliary neurotrophic factor (CNTF) etc. all of which initiate signaling through a signal transducing receptor (gp130, LIFR, OSMR). IL-6, IL-11 and CNTF first bind specifically to their respective non-signaling α-receptor subunits that are involved in recognition of the IL-6-type cytokines (IL-6Rα, IL11Rα, and CNTFRα). IL-6 stimulates homodimerization of gp130/IL6ST resulting in the activation of the JAK/STAT (Janus kinase/signal transducer and activator of transcription). Other cytokines of the family (e.g., LIF, CTF1, CNTF, OSM) stimulate heterodimerization of LIFR and gp130. The signal transducing chains gp130, LIFR and OSMR binds to JAK1, JAK2 and TYK2 . Among these, JAK1 plays an essential role in IL6 signalling. All IL-6-type cytokines potently activate STAT3, and STAT1. SOCS proteins are the feedback inhibitors. SOCS1 and SOCS3 are functionally related and inhibit IL-6-type cytokine signalling. Gp130 is ubiquitously expressed and the specific cell response to a given IL-6 type cytokine, is the result of the restricted expression of the other receptor subunits (the alfa -receptor)."
      ],
      "text/plain": [
       "<IPython.core.display.HTML object>"
      ]
     },
     "metadata": {},
     "output_type": "display_data"
    },
    {
     "data": {
      "text/html": [
       "<h4>Inflammosome Activation</h4>"
      ],
      "text/plain": [
       "<IPython.core.display.HTML object>"
      ]
     },
     "metadata": {},
     "output_type": "display_data"
    },
    {
     "data": {
      "text/html": [
       "[from Wikipedia] Inflammasomes are cytosolic multiprotein oligomers of the innate immune system responsible for the activation of inflammatory responses.[1][2] Activation and assembly of the inflammasome promotes proteolytic cleavage, maturation and secretion of pro-inflammatory cytokines interleukin 1β (IL-1β) and interleukin 18 (IL-18), as well as cleavage of Gasdermin-D.[2][3] The N-terminal fragment resulting from this cleavage induces a pro-inflammatory form of programmed cell death distinct from apoptosis, referred to as pyroptosis, and is responsible for secretion of the mature cytokines, presumably through the formation of pores in the plasma membrane."
      ],
      "text/plain": [
       "<IPython.core.display.HTML object>"
      ]
     },
     "metadata": {},
     "output_type": "display_data"
    },
    {
     "data": {
      "text/html": [
       "<h4>Insulin Signaling</h4>"
      ],
      "text/plain": [
       "<IPython.core.display.HTML object>"
      ]
     },
     "metadata": {},
     "output_type": "display_data"
    },
    {
     "data": {
      "text/html": [
       "In physiological conditions, insulin controls critical energy functions such as glucose and lipid metabolism. Insulin binds and activates the insulin receptor tyrosine kinase (IR), which phosphorylates and recruits different substrate adaptors. Tyrosine phosphorylated substrates, in turn, act as scaffolds for numerous partners, initiating a signaling cascade that involve via PI3K/Akt and Ras/MAP kinase pathways."
      ],
      "text/plain": [
       "<IPython.core.display.HTML object>"
      ]
     },
     "metadata": {},
     "output_type": "display_data"
    },
    {
     "data": {
      "text/plain": [
       "{'name': 'Signaling, Disease and Cancer Pathways',\n",
       " 'description': '<p>This set contains  human pathways manually-curated from the literature by the SIGNOR Team at the University of Rome</p><p> <img src=\"https://signor.uniroma2.it/img/signor_logo.png\" alt=\"Figure 1\" width=\"200\"/></p>',\n",
       " 'ownerId': '0db1f2dc-103f-11e8-b939-0ac135e8bacf',\n",
       " 'networks': ['02a8eede-97f1-11eb-9e72-0ac135e8bacf',\n",
       "  '035163e3-97f1-11eb-9e72-0ac135e8bacf',\n",
       "  '03dcfa67-1e5f-11e8-b939-0ac135e8bacf',\n",
       "  '0522eea1-97f1-11eb-9e72-0ac135e8bacf',\n",
       "  '077e15fd-1e5f-11e8-b939-0ac135e8bacf',\n",
       "  '0934c6b0-1e5f-11e8-b939-0ac135e8bacf',\n",
       "  '0ae84313-1e5f-11e8-b939-0ac135e8bacf',\n",
       "  '0b6cbc27-97f1-11eb-9e72-0ac135e8bacf',\n",
       "  '0ced3ad6-1e5f-11e8-b939-0ac135e8bacf',\n",
       "  '0f019be9-1e5f-11e8-b939-0ac135e8bacf',\n",
       "  '10f360ba-97f1-11eb-9e72-0ac135e8bacf',\n",
       "  '126da4b2-97f1-11eb-9e72-0ac135e8bacf',\n",
       "  '12c33ec7-97f1-11eb-9e72-0ac135e8bacf',\n",
       "  '1af025eb-afe8-11e9-8bb4-0ac135e8bacf',\n",
       "  '1af7be3b-1e5f-11e8-b939-0ac135e8bacf',\n",
       "  '1b3873d6-8f9a-11e8-a4bf-0ac135e8bacf',\n",
       "  '1ce0f09e-1e5f-11e8-b939-0ac135e8bacf',\n",
       "  '1ebf4d91-1e5f-11e8-b939-0ac135e8bacf',\n",
       "  '2322889c-afe8-11e9-8bb4-0ac135e8bacf',\n",
       "  '23f86e4a-1e5f-11e8-b939-0ac135e8bacf',\n",
       "  '248748ca-afe8-11e9-8bb4-0ac135e8bacf',\n",
       "  '2ae30e96-1e5f-11e8-b939-0ac135e8bacf',\n",
       "  '2cda23a9-1e5f-11e8-b939-0ac135e8bacf',\n",
       "  '303ab3cf-1e5f-11e8-b939-0ac135e8bacf',\n",
       "  '321c9332-1e5f-11e8-b939-0ac135e8bacf',\n",
       "  '34540ca5-1e5f-11e8-b939-0ac135e8bacf',\n",
       "  '3b9113b1-1e5f-11e8-b939-0ac135e8bacf',\n",
       "  '3d3f38e4-1e5f-11e8-b939-0ac135e8bacf',\n",
       "  '3f08d557-1e5f-11e8-b939-0ac135e8bacf',\n",
       "  '4120346e-61b0-11eb-9e72-0ac135e8bacf',\n",
       "  '42988bcd-1e5f-11e8-b939-0ac135e8bacf',\n",
       "  '447c8e10-1e5f-11e8-b939-0ac135e8bacf',\n",
       "  '484e5696-1e5f-11e8-b939-0ac135e8bacf',\n",
       "  '4bcd5c08-61b0-11eb-9e72-0ac135e8bacf',\n",
       "  '4c077eda-61b0-11eb-9e72-0ac135e8bacf',\n",
       "  '4da845bf-1e5f-11e8-b939-0ac135e8bacf',\n",
       "  '4f7e6552-1e5f-11e8-b939-0ac135e8bacf',\n",
       "  '54a9a35b-1e5f-11e8-b939-0ac135e8bacf',\n",
       "  '568d095e-1e5f-11e8-b939-0ac135e8bacf',\n",
       "  '5a2ec134-1e5f-11e8-b939-0ac135e8bacf',\n",
       "  '5be85817-1e5f-11e8-b939-0ac135e8bacf',\n",
       "  '5c091791-61b0-11eb-9e72-0ac135e8bacf',\n",
       "  'f6c5911d-97f0-11eb-9e72-0ac135e8bacf',\n",
       "  'f71ab602-97f0-11eb-9e72-0ac135e8bacf',\n",
       "  'f934bc76-97f0-11eb-9e72-0ac135e8bacf',\n",
       "  'fa7405cf-3d7f-11ea-bfdc-0ac135e8bacf',\n",
       "  'fd7a2e61-97f0-11eb-9e72-0ac135e8bacf',\n",
       "  'fd970533-97f0-11eb-9e72-0ac135e8bacf',\n",
       "  'fdc03815-97f0-11eb-9e72-0ac135e8bacf',\n",
       "  'fe2143d7-97f0-11eb-9e72-0ac135e8bacf',\n",
       "  'fe49b369-97f0-11eb-9e72-0ac135e8bacf'],\n",
       " 'showcased': True,\n",
       " 'properties': {'reference': ''},\n",
       " 'externalId': '1e6a6016-fc81-11ea-99da-0ac135e8bacf',\n",
       " 'isDeleted': False,\n",
       " 'modificationTime': 1629227042691,\n",
       " 'creationTime': 1600744207949}"
      ]
     },
     "execution_count": 206,
     "metadata": {},
     "output_type": "execute_result"
    }
   ],
   "source": [
    "#example_set_id = \"d0096935-4b05-11ec-b3be-0ac135e8bacf\"\n",
    "example_set_id = \"1e6a6016-fc81-11ea-99da-0ac135e8bacf\" # The 51 Signor curated pathway networks\n",
    "\n",
    "example_set = ndx.get_network_set(example_set_id)\n",
    "describe_network_set(example_set)"
   ]
  },
  {
   "cell_type": "markdown",
   "metadata": {},
   "source": [
    "## Similarity Scores\n",
    "- Jacquard\n",
    "- Cosine"
   ]
  },
  {
   "cell_type": "code",
   "execution_count": 212,
   "metadata": {},
   "outputs": [],
   "source": [
    "# Jacquard similarity for two gene lists:\n",
    "# The ratio of size of the intersection to the size of the union\n",
    "def jaccard_similarity(x,y):\n",
    " \n",
    " intersection_cardinality = len(set.intersection(*[set(x), set(y)]))\n",
    " union_cardinality = len(set.union(*[set(x), set(y)]))\n",
    " return intersection_cardinality/float(union_cardinality)\n",
    "\n",
    "# Cosine similarity for two gene lists:\n",
    "# loop through each list, find distinct genes and map them to a\n",
    "# unique number starting at zero\n",
    "def make_all_genes(gene_lists):\n",
    "    all_genes = {}\n",
    "    i = 0\n",
    "    for gene_list in gene_lists:\n",
    "        for gene in gene_list:\n",
    "            if gene not in all_genes:\n",
    "                all_genes[gene] = i\n",
    "                i += 1\n",
    "    return all_genes\n",
    "\n",
    "def cosine_similarity(list_a, list_b, all_genes):\n",
    "    a = list2vec(list_a, all_genes)\n",
    "    # print(a)\n",
    "    b = list2vec(list_b, all_genes)\n",
    "    # print(b)\n",
    "    # use numpy's dot product to calculate the cosine similarity\n",
    "    return np.dot(a, b) / np.sqrt(np.dot(a, a) * np.dot(b, b))\n",
    "    \n",
    "def list2vec(list, all_genes):\n",
    "    # create a vector of zeros the length of all genes\n",
    "    vec = np.zeros(len(all_genes))\n",
    "    # for each gene in the list, get the index and set that element of the vector to 1\n",
    "    for gene in list:\n",
    "        index = all_genes[gene] # fragile, need to test to be sure all_genes contains gene\n",
    "        vec[index] = 1\n",
    "    return vec\n",
    "\n",
    "def make_jaccard_similarity_matrix(gene_lists):\n",
    "    size = len(gene_lists)\n",
    "    matrix = np.zeros((size,size))\n",
    "    for i in range(size):\n",
    "        # print(i)\n",
    "        for j in range(size):\n",
    "            sim = jaccard_similarity(gene_lists[i], gene_lists[j])\n",
    "            matrix[i,j] = sim\n",
    "    return matrix\n",
    "            \n",
    "def make_cosine_similarity_matrix(gene_lists):\n",
    "    size = len(gene_lists)\n",
    "    matrix = np.zeros((size,size))\n",
    "    all_genes = make_all_genes(gene_lists)\n",
    "    #for gene_list in gene_lists:\n",
    "    #    vectors.append(list2vec(gene_list, all_genes))\n",
    "    for i in range(size):\n",
    "        for j in range(size):\n",
    "            sim = cosine_similarity(gene_lists[i], gene_lists[j], all_genes)\n",
    "            matrix[i,j] = sim\n",
    "    return matrix\n",
    "    "
   ]
  },
  {
   "cell_type": "code",
   "execution_count": 214,
   "metadata": {},
   "outputs": [
    {
     "name": "stdout",
     "output_type": "stream",
     "text": [
      "jaccard\n",
      "[[1.    0.375]\n",
      " [0.375 1.   ]]\n",
      "\n",
      "cosine\n",
      "[[1.         0.54772256]\n",
      " [0.54772256 1.        ]]\n"
     ]
    }
   ],
   "source": [
    "# Similarity scoring examples\n",
    "a = ['TP53', 'EGFR', 'XRCC1', \"FOXO3\", \"TLE1\"]\n",
    "b = ['TP53', 'EGFR', 'XRCC1', \"AKT1\", \"GSK3B\", 'E2F1']\n",
    "l = [a,b]\n",
    "mj = make_jaccard_similarity_matrix(l)\n",
    "print('jaccard')\n",
    "print(mj)\n",
    "print(\"\")\n",
    "print('cosine')\n",
    "mc = make_cosine_similarity_matrix(l)\n",
    "print(mc)"
   ]
  },
  {
   "cell_type": "markdown",
   "metadata": {},
   "source": [
    "## Process a Network Set\n",
    "- get the set from NDEx\n",
    "- for each network, extract the gene list\n",
    "- make a jaccard similarity matrix from the gene list\n",
    "- make a cosine similarity matrix from the gene list\n",
    "- choose a score and similarity threshold and score to filter edges for the output network\n",
    "- make the output network from the similarity matrices, set \"cosine\" and \"jaccard\" attributes on edges\n",
    "- set the name of each node to the name of the corresponding network\n",
    "- set the \"members\" attribute of each node to the gene list\n",
    "- set the style of the network to be the similarity network style\n",
    "- perform a network layout\n",
    "- set the \"network\" attribute of each node to the URL to display the corresponding network in a new tab\n",
    "- set the name of the network to be the name of the set\n",
    "- set the derived from attribute to be the UUID of the set\n",
    "- also make a link in the description point to the set\n",
    "- save to NDEx"
   ]
  },
  {
   "cell_type": "code",
   "execution_count": 217,
   "metadata": {},
   "outputs": [],
   "source": [
    "def get_nodes_as_df(network_id, server=\"www.ndexbio.org\"):\n",
    "    url = \"\".join([\"https://\", server, \"/v3/networks/\", network_id, \"/export?type=node\"])\n",
    "    r = requests.get(url)\n",
    "    df = pd.read_csv(io.StringIO(r.text),sep='\\t')\n",
    "    #print(df)\n",
    "    return df\n",
    "\n",
    "def get_node_name_list(network_id, server=\"www.ndexbio.org\"):\n",
    "    # TODO deal with private networks\n",
    "    df = get_nodes_as_df(network_id, server=server)\n",
    "    return list(df[\"name\"])\n",
    "\n",
    "# TODO\n",
    "# filter the gene list to include only known human gene names\n",
    "def remove_non_genes(list_of_strings):\n",
    "    return None\n",
    " \n",
    "# TODO\n",
    "# also find genes in specified attributes such as \"genes\" or \"members\"\n",
    "def get_gene_list(network_id):\n",
    "    names = get_node_name_list(network_id)\n",
    "    return names\n",
    "    \n",
    "def get_gene_lists_from_network_ids(network_ids):\n",
    "    gene_lists = []\n",
    "    for network_id in network_ids:\n",
    "        gene_lists.append(get_gene_list(network_id))\n",
    "    return gene_lists\n",
    "        \n",
    "def get_network_summaries_from_network_ids(network_ids):\n",
    "    network_summaries = []\n",
    "    for network_id in network_ids:\n",
    "        network_summaries.append(ndx.get_network_summary(network_id))\n",
    "    return network_summaries\n",
    "\n",
    "# In addition to commputing the similarity matrix, this function also returns\n",
    "# lists of the network ids, network summaries, and gene lists, each in the same order\n",
    "def make_similarity_matrix_from_set(network_set_id, similarity_metric=\"jaccard\"):\n",
    "    network_set = ndx.get_network_set(network_set_id)\n",
    "    network_ids = network_set.get(\"networks\")  # this list establishes the order of the network ids from here on\n",
    "    gene_lists = get_gene_lists_from_network_ids(network_ids)\n",
    "    network_summaries = get_network_summaries_from_network_ids(network_ids)\n",
    "    if similarity_metric == \"jaccard\":\n",
    "        return make_jaccard_similarity_matrix(gene_lists), network_ids, network_summaries, gene_lists\n",
    "    if simlarity_metric == \"cosine\":\n",
    "        return make_cosine_similarity_matrix(gene_lists), network_ids, network_summaries, gene_lists\n",
    "    print(\"unknown similarity score\" + similarity_metric)\n",
    "    return None, network_ids, network_summaries, gene_lists\n",
    "\n",
    "def make_networkx_similarity_network(similarity_matrix, threshold, network_ids, network_summaries, gene_lists):\n",
    "    sim_network = nx.from_numpy_matrix(similarity_matrix > threshold)\n",
    "    sim_network.remove_edges_from(nx.selfloop_edges(sim_network))\n",
    "    # add the weights. from_numpy_matrix \n",
    "    for (i, j) in sim_network.edges():\n",
    "        sim_network[i][j][\"weight\"] = similarity_matrix[i][j]\n",
    "    attributes = {}\n",
    "    for index in range(len(network_ids)):\n",
    "        network_id = network_ids[index]\n",
    "        network_summary = network_summaries[index]\n",
    "        name = network_summary.get(\"name\")\n",
    "        description = network_summary.get(\"description\").replace(',', \" \").replace(';',' ')\n",
    "        members = gene_lists[index]\n",
    "        n_members = len(members)\n",
    "        attributes[index]={\"label\":name,\n",
    "                           \"description\":description, \n",
    "                           \"members\":members, \n",
    "                           \"n_members\": len(members),\n",
    "                           \"log2members\": log(len(members),2)\n",
    "                          }\n",
    "    nx.set_node_attributes(sim_network, attributes)\n",
    "    return sim_network"
   ]
  },
  {
   "cell_type": "markdown",
   "metadata": {},
   "source": [
    "### Create the similarity network"
   ]
  },
  {
   "cell_type": "code",
   "execution_count": 221,
   "metadata": {},
   "outputs": [],
   "source": [
    "jaccard, network_ids, network_summaries, gene_lists = make_similarity_matrix_from_set(example_set_id)\n",
    "#print(jaccard)\n",
    "#print(network_ids)\n",
    "#print(network_summaries)\n",
    "sim_network = make_networkx_similarity_network(jaccard, 0.2, network_ids, network_summaries, gene_lists)"
   ]
  },
  {
   "cell_type": "markdown",
   "metadata": {},
   "source": [
    "### Apply a style and a layout"
   ]
  },
  {
   "cell_type": "code",
   "execution_count": 223,
   "metadata": {
    "scrolled": true
   },
   "outputs": [],
   "source": [
    "ncx=ndex2.create_nice_cx_from_networkx(sim_network)\n",
    "# name the network based on the set name\n",
    "ncx.set_name(example_set.get(\"name\") + \" similarity map\")\n",
    "\n",
    "TEMPLATE_UUID = 'f9bdb308-4be7-11ec-b3be-0ac135e8bacf'\n",
    "\n",
    "# Copy the style from a template network in NDEx and apply it to our NiceCX network\n",
    "ncx.apply_template(SERVER, TEMPLATE_UUID)\n",
    "\n",
    "# Perform a layout on the networkx network and apply it to the NiceCX network\n",
    "#pos = nx.drawing.layout.spiral_layout(sim_network, scale=700)\n",
    "pos = nx.drawing.layout.kamada_kawai_layout(sim_network, scale=1400)\n",
    "\n",
    "new_cart_layout = []\n",
    "for node_id, coordinates in pos.items():\n",
    "    new_cart_layout.append({\n",
    "        'node': node_id,\n",
    "        'x': coordinates[0],\n",
    "        'y': -coordinates[1]   # See note below!!!\n",
    "    })\n",
    "ncx.set_opaque_aspect(ndex2.constants.CARTESIAN_LAYOUT_ASPECT, new_cart_layout)\n",
    "\n"
   ]
  },
  {
   "cell_type": "markdown",
   "metadata": {},
   "source": [
    "### View the network"
   ]
  },
  {
   "cell_type": "code",
   "execution_count": 224,
   "metadata": {},
   "outputs": [
    {
     "name": "stdout",
     "output_type": "stream",
     "text": [
      "Generating CX\n"
     ]
    },
    {
     "data": {
      "application/vnd.jupyter.widget-view+json": {
       "model_id": "e36adaddc1b84438937257fdd80b5eff",
       "version_major": 2,
       "version_minor": 0
      },
      "text/plain": [
       "Cytoscape(data=[{'numberVerification': [{'longNumber': 281474976710655}]}, {'metaData': [{'name': 'cyVisualPro…"
      ]
     },
     "metadata": {},
     "output_type": "display_data"
    }
   ],
   "source": [
    "from cyjupyter import Cytoscape\n",
    "cx_network = ncx.to_cx()\n",
    "Cytoscape(data=cx_network, format='cx')"
   ]
  },
  {
   "cell_type": "markdown",
   "metadata": {},
   "source": [
    "### Upload the network to NDEx \n",
    "and show the URL of the network's page as well as its UUID"
   ]
  },
  {
   "cell_type": "code",
   "execution_count": 225,
   "metadata": {},
   "outputs": [
    {
     "name": "stdout",
     "output_type": "stream",
     "text": [
      "Generating CX\n",
      "===============\n",
      "Network's URL (click to view!): http://ndexbio.org/viewer/networks/9ab14365-508a-11ec-b3be-0ac135e8bacf\n",
      "Network's UUID: 9ab14365-508a-11ec-b3be-0ac135e8bacf\n"
     ]
    }
   ],
   "source": [
    "network_url = ncx.upload_to(SERVER, NDEXUSER, NDEXPASSWORD)\n",
    "network_uuid = network_url.split(\"/\")[-1]\n",
    "\n",
    "print ('=' *15)\n",
    "print(\"Network's URL (click to view!): \" + NETWORK_BASE_URL + network_uuid)\n",
    "print(\"Network's UUID: \" + network_uuid)"
   ]
  }
 ],
 "metadata": {
  "kernelspec": {
   "display_name": "Python 3",
   "language": "python",
   "name": "python3"
  },
  "language_info": {
   "codemirror_mode": {
    "name": "ipython",
    "version": 3
   },
   "file_extension": ".py",
   "mimetype": "text/x-python",
   "name": "python",
   "nbconvert_exporter": "python",
   "pygments_lexer": "ipython3",
   "version": "3.8.8"
  }
 },
 "nbformat": 4,
 "nbformat_minor": 5
}
