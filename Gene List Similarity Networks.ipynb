{
 "cells": [
  {
   "cell_type": "markdown",
   "id": "e533008c",
   "metadata": {},
   "source": [
    "Create a similarity map from a set of network or the communities in a hierarchical model"
   ]
  },
  {
   "cell_type": "code",
   "execution_count": 4,
   "id": "8003766e",
   "metadata": {},
   "outputs": [],
   "source": [
    "from math import*\n",
    "import numpy as np\n"
   ]
  },
  {
   "cell_type": "markdown",
   "id": "08d110f6",
   "metadata": {},
   "source": [
    "## Similarity Metrics\n",
    "Jacquard\n",
    "Cosine"
   ]
  },
  {
   "cell_type": "code",
   "execution_count": 18,
   "id": "05aee055",
   "metadata": {},
   "outputs": [],
   "source": [
    "# Jacquard similarity for two sets:\n",
    "\n",
    "# The ratio of size of the intersection to the size of the union\n",
    " \n",
    "def jaccard_similarity(x,y):\n",
    " \n",
    " intersection_cardinality = len(set.intersection(*[set(x), set(y)]))\n",
    " union_cardinality = len(set.union(*[set(x), set(y)]))\n",
    " return intersection_cardinality/float(union_cardinality)\n",
    "\n",
    "# Cosine similarity for two sets:\n",
    "# loop through each list, find distinct genes and map them to a\n",
    "# unique number starting at zero\n",
    "def make_all_genes(gene_lists):\n",
    "    all_genes = {}\n",
    "    i = 0\n",
    "    for gene_list in gene_lists:\n",
    "        for gene in gene_list:\n",
    "            if gene not in all_genes:\n",
    "                all_genes[gene] = i\n",
    "                i += 1\n",
    "    return all_genes\n",
    "\n",
    "def cosine_similarity(list_a, list_b, all_genes):\n",
    "    a = list2vec(list_a, all_genes)\n",
    "    print(a)\n",
    "    b = list2vec(list_b, all_genes)\n",
    "    print(b)\n",
    "    # use numpy's dot product to calculate the cosine similarity\n",
    "    return np.dot(a, b) / np.sqrt(np.dot(a, a) * np.dot(b, b))\n",
    "    \n",
    "def list2vec(list, all_genes):\n",
    "    # create a vector of zeros the length of all genes\n",
    "    vec = np.zeros(len(all_genes))\n",
    "    # for each gene in the list, get the index and set that element of the vector to 1\n",
    "    for gene in list:\n",
    "        index = all_genes[gene] # fragile, need to test to be sure all_genes contains gene\n",
    "        vec[index] = 1\n",
    "    return vec\n",
    "\n",
    "def make_jaccard_similarity_matrix(gene_lists):\n",
    "    size = len(gene_lists)\n",
    "    matrix = np.zeros((size,size))\n",
    "    for i in range(size):\n",
    "        for j in range(size):\n",
    "            sim = jaccard_similarity(gene_lists[i], gene_lists[j])\n",
    "            matrix[i,j] = sim\n",
    "    return matrix\n",
    "            \n",
    "def make_cosine_similarity_matrix(gene_lists):\n",
    "    size = len(gene_lists)\n",
    "    matrix = np.zeros((size,size))\n",
    "    all_genes = make_all_genes(gene_lists)\n",
    "    #for gene_list in gene_lists:\n",
    "    #    vectors.append(list2vec(gene_list, all_genes))\n",
    "    for i in range(size):\n",
    "        for j in range(size):\n",
    "            sim = cosine_similarity(gene_lists[i], gene_lists[j], all_genes)\n",
    "            matrix[i,j] = sim\n",
    "    return matrix\n",
    "    "
   ]
  },
  {
   "cell_type": "code",
   "execution_count": 19,
   "id": "a7a6ec15",
   "metadata": {},
   "outputs": [
    {
     "data": {
      "text/plain": [
       "array([[1.   , 0.375],\n",
       "       [0.375, 1.   ]])"
      ]
     },
     "execution_count": 19,
     "metadata": {},
     "output_type": "execute_result"
    }
   ],
   "source": [
    "a = ['TP53', 'EGFR', 'XRCC1', \"FOXO3\", \"TLE1\"]\n",
    "b = ['TP53', 'EGFR', 'XRCC1', \"AKT1\", \"GSK3B\", 'E2F1']\n",
    "l = [a,b]\n",
    "m = make_jaccard_similarity_matrix(l)\n",
    "m"
   ]
  },
  {
   "cell_type": "code",
   "execution_count": 20,
   "id": "677f3b78",
   "metadata": {},
   "outputs": [
    {
     "name": "stdout",
     "output_type": "stream",
     "text": [
      "[1. 1. 1. 1. 1. 0. 0. 0.]\n",
      "[1. 1. 1. 1. 1. 0. 0. 0.]\n",
      "[1. 1. 1. 1. 1. 0. 0. 0.]\n",
      "[1. 1. 1. 0. 0. 1. 1. 1.]\n",
      "[1. 1. 1. 0. 0. 1. 1. 1.]\n",
      "[1. 1. 1. 1. 1. 0. 0. 0.]\n",
      "[1. 1. 1. 0. 0. 1. 1. 1.]\n",
      "[1. 1. 1. 0. 0. 1. 1. 1.]\n"
     ]
    },
    {
     "data": {
      "text/plain": [
       "array([[1.        , 0.54772256],\n",
       "       [0.54772256, 1.        ]])"
      ]
     },
     "execution_count": 20,
     "metadata": {},
     "output_type": "execute_result"
    }
   ],
   "source": [
    "a = ['TP53', 'EGFR', 'XRCC1', \"FOXO3\", \"TLE1\"]\n",
    "b = ['TP53', 'EGFR', 'XRCC1', \"AKT1\", \"GSK3B\", 'E2F1']\n",
    "l = [a,b]\n",
    "m = make_cosine_similarity_matrix(l)\n",
    "m"
   ]
  },
  {
   "cell_type": "markdown",
   "id": "cae82699",
   "metadata": {},
   "source": [
    "## Process a Network Set\n",
    "- get the set from NDEx\n",
    "- for each network, extract the gene list\n",
    "- make a jaccard similarity matrix from the gene list\n",
    "- make a cosine similarity matrix from the gene list\n",
    "- choose a similarity threshold and type for adding edges to the output network\n",
    "- make the output network from the similarity matrices, set \"cosine\" and \"jaccard\" attributes on edges\n",
    "- layout? Only use threshold edges?\n",
    "- set the name of each nodes to be the name of the corresponding network\n",
    "- set the \"members\" attribute of each node to the gene list\n",
    "- set the style of the network to be the similarity network style\n",
    " - hide edges below threshold\n",
    "- set the \"network\" attribute of each node to the URL to display the corresponding network in a new tab\n",
    "- set the name of the network to be the name of the set\n",
    "- set the derived from attribute to be the UUID of the set\n",
    "- also make a link in the description point to the set\n",
    "- save to NDEx"
   ]
  },
  {
   "cell_type": "markdown",
   "id": "3f495df5",
   "metadata": {},
   "source": [
    "## Process a Hierarchy\n",
    "- get the hierarchy\n",
    "- for each community, get the member list\n",
    "- make the matrices and the network as above\n",
    "- set the name of each node to be the name of the community\n",
    "- set the \"members\" attribute of each node to be the members of the community\n",
    "- ...maybe just copy ALL attributes of the hierarchy nodes\n",
    "- set the style of the network to be the similarity network style\n",
    "- set the derived from attribute to the UUID of the hierarchy\n",
    "- make a link in the description open the hierarchy in a new tab\n",
    "- ***do we prune this to avoid re-creating the parent-child links? Or is a threshold sufficient?*\n",
    "- save to NDEx"
   ]
  },
  {
   "cell_type": "code",
   "execution_count": null,
   "id": "f94a0bc2",
   "metadata": {},
   "outputs": [],
   "source": []
  }
 ],
 "metadata": {
  "kernelspec": {
   "display_name": "Python 3",
   "language": "python",
   "name": "python3"
  },
  "language_info": {
   "codemirror_mode": {
    "name": "ipython",
    "version": 3
   },
   "file_extension": ".py",
   "mimetype": "text/x-python",
   "name": "python",
   "nbconvert_exporter": "python",
   "pygments_lexer": "ipython3",
   "version": "3.8.11"
  }
 },
 "nbformat": 4,
 "nbformat_minor": 5
}
