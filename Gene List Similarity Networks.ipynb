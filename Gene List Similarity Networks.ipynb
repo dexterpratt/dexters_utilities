{
 "cells": [
  {
   "cell_type": "markdown",
   "id": "f24af12a",
   "metadata": {},
   "source": [
    "Create a similarity map from a set of network or the communities in a hierarchical model"
   ]
  },
  {
   "cell_type": "code",
   "execution_count": 56,
   "id": "7b0dce2b",
   "metadata": {},
   "outputs": [],
   "source": [
    "from math import*\n",
    "import numpy as np\n",
    "import pandas as pd\n",
    "import ndex2\n",
    "import getpass\n",
    "import requests\n",
    "import io\n",
    "import igraph\n",
    "import networkx as nx\n",
    "\n",
    "from IPython.display import display, HTML"
   ]
  },
  {
   "cell_type": "code",
   "execution_count": 2,
   "id": "9eb931f7",
   "metadata": {
    "tags": []
   },
   "outputs": [
    {
     "name": "stdout",
     "output_type": "stream",
     "text": [
      "········\n"
     ]
    }
   ],
   "source": [
    "# Watch out for typos and be sure to hit enter in the field to set the value!!!\n",
    "NDEXUSER = getpass.getpass()"
   ]
  },
  {
   "cell_type": "code",
   "execution_count": 3,
   "id": "0f211ca4",
   "metadata": {},
   "outputs": [
    {
     "name": "stdout",
     "output_type": "stream",
     "text": [
      "········\n"
     ]
    }
   ],
   "source": [
    "# Watch out for typos and be sure to hit enter in the field to set the value!!!\n",
    "NDEXPASSWORD = getpass.getpass()"
   ]
  },
  {
   "cell_type": "code",
   "execution_count": 4,
   "id": "87badd0d",
   "metadata": {},
   "outputs": [
    {
     "name": "stdout",
     "output_type": "stream",
     "text": [
      "dexterpratt\n",
      "cytoscaperules\n"
     ]
    },
    {
     "data": {
      "text/plain": [
       "<ndex2.client.Ndex2 at 0x1fb9fc926a0>"
      ]
     },
     "execution_count": 4,
     "metadata": {},
     "output_type": "execute_result"
    }
   ],
   "source": [
    "print(NDEXUSER)\n",
    "print(NDEXPASSWORD)\n",
    "ndx=ndex2.Ndex2(\"http://www.ndexbio.org\", NDEXUSER, NDEXPASSWORD)\n",
    "ndx"
   ]
  },
  {
   "cell_type": "code",
   "execution_count": 45,
   "id": "350bcac5",
   "metadata": {},
   "outputs": [
    {
     "data": {
      "text/plain": [
       "{'name': 'similarity_example_set',\n",
       " 'description': 'NCI-PID networks for testing similarity network generation',\n",
       " 'ownerId': 'e3b72ac7-0a33-11e5-ac0f-000c29cb28fb',\n",
       " 'networks': ['48ad4218-78c3-11e8-a4bf-0ac135e8bacf',\n",
       "  '4a34f38b-78c3-11e8-a4bf-0ac135e8bacf',\n",
       "  '4beeb17e-78c3-11e8-a4bf-0ac135e8bacf',\n",
       "  '4d8ea5e1-78c3-11e8-a4bf-0ac135e8bacf'],\n",
       " 'showcased': False,\n",
       " 'properties': {'reference': ''},\n",
       " 'externalId': 'd0096935-4b05-11ec-b3be-0ac135e8bacf',\n",
       " 'isDeleted': False,\n",
       " 'modificationTime': 1637524887884,\n",
       " 'creationTime': 1637524887884}"
      ]
     },
     "execution_count": 45,
     "metadata": {},
     "output_type": "execute_result"
    }
   ],
   "source": [
    "example_set_id = \"d0096935-4b05-11ec-b3be-0ac135e8bacf\"\n",
    "def describe_network_set(set_id):\n",
    "    set = ndx.get_network_set(set_id)\n",
    "    display(HTML(\"<h2>\" + set.get(\"name\") + \"</h2>\"))\n",
    "    display(HTML(set.get(\"description\")))\n",
    "    for network_id in set.get(\"networks\"):\n",
    "        summary = ndx.get_network_summary(network_id)\n",
    "        display(HTML(\"<h4>\" + summary.get(\"name\") + \"</h4>\"))\n",
    "        if summary.get(\"description\"):\n",
    "            display(HTML(summary.get(\"description\")))\n",
    "    return set\n",
    "\n",
    "#example_set = describe_network_set(example_set_id)\n",
    "example_set = ndx.get_network_set(example_set_id)\n",
    "example_set"
   ]
  },
  {
   "cell_type": "markdown",
   "id": "6cf4c3e4",
   "metadata": {},
   "source": [
    "## Similarity Metrics\n",
    "- Jacquard\n",
    "- Cosine"
   ]
  },
  {
   "cell_type": "code",
   "execution_count": 46,
   "id": "2f3ae794",
   "metadata": {},
   "outputs": [],
   "source": [
    "# Jacquard similarity for two sets:\n",
    "\n",
    "# The ratio of size of the intersection to the size of the union\n",
    " \n",
    "def jaccard_similarity(x,y):\n",
    " \n",
    " intersection_cardinality = len(set.intersection(*[set(x), set(y)]))\n",
    " union_cardinality = len(set.union(*[set(x), set(y)]))\n",
    " return intersection_cardinality/float(union_cardinality)\n",
    "\n",
    "# Cosine similarity for two sets:\n",
    "# loop through each list, find distinct genes and map them to a\n",
    "# unique number starting at zero\n",
    "def make_all_genes(gene_lists):\n",
    "    all_genes = {}\n",
    "    i = 0\n",
    "    for gene_list in gene_lists:\n",
    "        for gene in gene_list:\n",
    "            if gene not in all_genes:\n",
    "                all_genes[gene] = i\n",
    "                i += 1\n",
    "    return all_genes\n",
    "\n",
    "def cosine_similarity(list_a, list_b, all_genes):\n",
    "    a = list2vec(list_a, all_genes)\n",
    "    print(a)\n",
    "    b = list2vec(list_b, all_genes)\n",
    "    print(b)\n",
    "    # use numpy's dot product to calculate the cosine similarity\n",
    "    return np.dot(a, b) / np.sqrt(np.dot(a, a) * np.dot(b, b))\n",
    "    \n",
    "def list2vec(list, all_genes):\n",
    "    # create a vector of zeros the length of all genes\n",
    "    vec = np.zeros(len(all_genes))\n",
    "    # for each gene in the list, get the index and set that element of the vector to 1\n",
    "    for gene in list:\n",
    "        index = all_genes[gene] # fragile, need to test to be sure all_genes contains gene\n",
    "        vec[index] = 1\n",
    "    return vec\n",
    "\n",
    "def make_jaccard_similarity_matrix(gene_lists):\n",
    "    size = len(gene_lists)\n",
    "    matrix = np.zeros((size,size))\n",
    "    for i in range(size):\n",
    "        for j in range(size):\n",
    "            sim = jaccard_similarity(gene_lists[i], gene_lists[j])\n",
    "            matrix[i,j] = sim\n",
    "    return matrix\n",
    "            \n",
    "def make_cosine_similarity_matrix(gene_lists):\n",
    "    size = len(gene_lists)\n",
    "    matrix = np.zeros((size,size))\n",
    "    all_genes = make_all_genes(gene_lists)\n",
    "    #for gene_list in gene_lists:\n",
    "    #    vectors.append(list2vec(gene_list, all_genes))\n",
    "    for i in range(size):\n",
    "        for j in range(size):\n",
    "            sim = cosine_similarity(gene_lists[i], gene_lists[j], all_genes)\n",
    "            matrix[i,j] = sim\n",
    "    return matrix\n",
    "    "
   ]
  },
  {
   "cell_type": "code",
   "execution_count": 47,
   "id": "bc582876",
   "metadata": {},
   "outputs": [
    {
     "data": {
      "text/plain": [
       "array([[1.   , 0.375],\n",
       "       [0.375, 1.   ]])"
      ]
     },
     "execution_count": 47,
     "metadata": {},
     "output_type": "execute_result"
    }
   ],
   "source": [
    "a = ['TP53', 'EGFR', 'XRCC1', \"FOXO3\", \"TLE1\"]\n",
    "b = ['TP53', 'EGFR', 'XRCC1', \"AKT1\", \"GSK3B\", 'E2F1']\n",
    "l = [a,b]\n",
    "m = make_jaccard_similarity_matrix(l)\n",
    "m"
   ]
  },
  {
   "cell_type": "code",
   "execution_count": 48,
   "id": "1868517b",
   "metadata": {
    "scrolled": true
   },
   "outputs": [
    {
     "name": "stdout",
     "output_type": "stream",
     "text": [
      "[1. 1. 1. 1. 1. 0. 0. 0.]\n",
      "[1. 1. 1. 1. 1. 0. 0. 0.]\n",
      "[1. 1. 1. 1. 1. 0. 0. 0.]\n",
      "[1. 1. 1. 0. 0. 1. 1. 1.]\n",
      "[1. 1. 1. 0. 0. 1. 1. 1.]\n",
      "[1. 1. 1. 1. 1. 0. 0. 0.]\n",
      "[1. 1. 1. 0. 0. 1. 1. 1.]\n",
      "[1. 1. 1. 0. 0. 1. 1. 1.]\n"
     ]
    },
    {
     "data": {
      "text/plain": [
       "array([[1.        , 0.54772256],\n",
       "       [0.54772256, 1.        ]])"
      ]
     },
     "execution_count": 48,
     "metadata": {},
     "output_type": "execute_result"
    }
   ],
   "source": [
    "a = ['TP53', 'EGFR', 'XRCC1', \"FOXO3\", \"TLE1\"]\n",
    "b = ['TP53', 'EGFR', 'XRCC1', \"AKT1\", \"GSK3B\", 'E2F1']\n",
    "l = [a,b]\n",
    "m = make_cosine_similarity_matrix(l)\n",
    "m"
   ]
  },
  {
   "cell_type": "markdown",
   "id": "dcb6afc8",
   "metadata": {},
   "source": [
    "## Process a Network Set\n",
    "- get the set from NDEx\n",
    "- for each network, extract the gene list\n",
    "- make a jaccard similarity matrix from the gene list\n",
    "- make a cosine similarity matrix from the gene list\n",
    "- choose a similarity threshold and type for adding edges to the output network\n",
    "- make the output network from the similarity matrices, set \"cosine\" and \"jaccard\" attributes on edges\n",
    "- layout? Only use threshold edges?\n",
    "- set the name of each nodes to be the name of the corresponding network\n",
    "- set the \"members\" attribute of each node to the gene list\n",
    "- set the style of the network to be the similarity network style\n",
    " - hide edges below threshold\n",
    "- set the \"network\" attribute of each node to the URL to display the corresponding network in a new tab\n",
    "- set the name of the network to be the name of the set\n",
    "- set the derived from attribute to be the UUID of the set\n",
    "- also make a link in the description point to the set\n",
    "- save to NDEx"
   ]
  },
  {
   "cell_type": "code",
   "execution_count": 49,
   "id": "c6b78e2b",
   "metadata": {},
   "outputs": [],
   "source": [
    "def get_nodes_as_df(network_id, server=\"www.ndexbio.org\"):\n",
    "    url = \"\".join([\"https://\", server, \"/v3/networks/\", network_id, \"/export?type=node\"])\n",
    "    r = requests.get(url)\n",
    "    df = pd.read_csv(io.StringIO(r.text),sep='\\t')\n",
    "    #print(df)\n",
    "    return df\n",
    "\n",
    "def get_node_name_list(network_id, server=\"www.ndexbio.org\"):\n",
    "    # TODO deal with private networks\n",
    "    df = get_nodes_as_df(network_id, server=server)\n",
    "    return list(df[\"name\"])\n",
    "\n",
    "def remove_non_genes(list_of_strings):\n",
    "    return None\n",
    "    \n",
    "def get_gene_list(network_id):\n",
    "    names = get_node_name_list(network_id)\n",
    "    return names\n",
    "    \n",
    "def get_gene_lists_from_set(set_id):\n",
    "    set = ndx.get_network_set(set_id)\n",
    "    gene_lists = []\n",
    "    for network_id in set.get(\"networks\"):\n",
    "        gene_lists.append(get_gene_list(network_id))\n",
    "    return gene_lists\n",
    "        \n",
    "def make_similarity_matrix_from_set(set_id, similarity_metric=\"jaccard\"):\n",
    "    gene_lists = get_gene_lists_from_set(set_id)\n",
    "    if similarity_metric == \"jaccard\":\n",
    "        return make_jaccard_similarity_matrix(gene_lists)\n",
    "    if simlarity_metric == \"cosine\":\n",
    "        return make_cosine_similarity_matrix(gene_lists)\n",
    "    print(\"unknown similarity metric\" + similarity_metric)\n",
    "    return None"
   ]
  },
  {
   "cell_type": "code",
   "execution_count": 50,
   "id": "2e9e79bc",
   "metadata": {},
   "outputs": [
    {
     "data": {
      "text/plain": [
       "[['1313',\n",
       "  'ARF1',\n",
       "  'ARFGAP1',\n",
       "  'ASAP1',\n",
       "  'CD4',\n",
       "  'CLTA',\n",
       "  'CLTB',\n",
       "  'COPA',\n",
       "  'EREG',\n",
       "  'GBF1',\n",
       "  'GGA3',\n",
       "  'GIT1',\n",
       "  'GOSR2',\n",
       "  'HIV Nef',\n",
       "  'KDELR1',\n",
       "  'USO1',\n",
       "  'YKT6',\n",
       "  'ACTR2',\n",
       "  'ACTR3',\n",
       "  'ARHGAP10',\n",
       "  'AP2A1',\n",
       "  'AP2M1',\n",
       "  'ARFGEF1',\n",
       "  'ARFIP2',\n",
       "  'CYTH1',\n",
       "  'CYTH2',\n",
       "  'PIP5K1A',\n",
       "  'PLD2',\n",
       "  'RAC1',\n",
       "  'GDP',\n",
       "  'GTP',\n",
       "  'ATP',\n",
       "  'phosphatidic acid',\n",
       "  'DAG',\n",
       "  'PAPOLA',\n",
       "  '1-phosphatidyl-1D-myo-inositol 3,4,5-trisphosphate',\n",
       "  'brefeldin A',\n",
       "  'PI-4-5-P2',\n",
       "  'PI-4-P',\n",
       "  'choline',\n",
       "  'Phosphatic acid',\n",
       "  'Phosphatidylcholine'],\n",
       " ['ARF1',\n",
       "  'ARF6',\n",
       "  'GDP',\n",
       "  'KALRN',\n",
       "  'MAPK1',\n",
       "  'MAPK3',\n",
       "  'NME1',\n",
       "  'PIP5K1A',\n",
       "  'PLD1',\n",
       "  'PLD2',\n",
       "  'RAB11A',\n",
       "  'RAB11FIP3',\n",
       "  'RAC1',\n",
       "  'RHOA',\n",
       "  'TIAM1',\n",
       "  'phosphatidic acid',\n",
       "  'GM1',\n",
       "  'GTP',\n",
       "  'PLAUR',\n",
       "  'choline',\n",
       "  'Phosphatidylcholine'],\n",
       " ['ACAP1',\n",
       "  'ACAP2',\n",
       "  'ARF6',\n",
       "  'GDP',\n",
       "  'GULP1',\n",
       "  'phosphate',\n",
       "  'ADAP1',\n",
       "  'KIF13B',\n",
       "  'ADRB2',\n",
       "  'ARRB1',\n",
       "  'ARRB2',\n",
       "  'CYTH2',\n",
       "  'beta Arrestin1-2',\n",
       "  'AGTR1',\n",
       "  'CYTH3',\n",
       "  'EGFR',\n",
       "  'EGF',\n",
       "  'HGF',\n",
       "  'IPCEF1',\n",
       "  'IQSEC1',\n",
       "  'MET',\n",
       "  'SRC',\n",
       "  'TSHR',\n",
       "  'ARAP2',\n",
       "  'EFNA1',\n",
       "  'EPHA2',\n",
       "  'GIT1',\n",
       "  'NCK1',\n",
       "  'FBXO8',\n",
       "  'Gq family',\n",
       "  'ITGA2B',\n",
       "  'ITGB3',\n",
       "  'LHCGR',\n",
       "  'PSD',\n",
       "  'PXN',\n",
       "  'USP6',\n",
       "  'phosphatidic acid',\n",
       "  'GTP',\n",
       "  'PI-3-4-5-P3',\n",
       "  'PI-4-5-P2'],\n",
       " ['ACAP1',\n",
       "  'ARF6',\n",
       "  'CLTC',\n",
       "  'PLD1',\n",
       "  'PLD2',\n",
       "  'SLC2A4',\n",
       "  'ASAP2',\n",
       "  'BIN1',\n",
       "  'CPE',\n",
       "  'EXOC1',\n",
       "  'EXOC2',\n",
       "  'EXOC3',\n",
       "  'EXOC4',\n",
       "  'EXOC5',\n",
       "  'EXOC6',\n",
       "  'EXOC7',\n",
       "  'EXOC8',\n",
       "  'ITGA10',\n",
       "  'ITGA11',\n",
       "  'ITGA1',\n",
       "  'ITGA2',\n",
       "  'ITGA3',\n",
       "  'ITGA4',\n",
       "  'ITGA5',\n",
       "  'ITGA6',\n",
       "  'ITGA7',\n",
       "  'ITGA8',\n",
       "  'ITGA9',\n",
       "  'ITGAV',\n",
       "  'ITGB1',\n",
       "  'KLC1',\n",
       "  'MAPK8IP3',\n",
       "  'NME1',\n",
       "  'PIP5K1C',\n",
       "  'RALA',\n",
       "  'Receptors internalized by Arf6 CIE',\n",
       "  'SCAMP2',\n",
       "  'SPAG9',\n",
       "  'TSHR',\n",
       "  'VAMP3',\n",
       "  'CDH1',\n",
       "  'CTNNA1',\n",
       "  'CTNNB1',\n",
       "  'CTNND1',\n",
       "  'DNM2',\n",
       "  'phosphatidic acid',\n",
       "  'calcium(2+)',\n",
       "  'GDP',\n",
       "  'GTP',\n",
       "  'PI-4-5-P2',\n",
       "  'INS',\n",
       "  'PI-4-P',\n",
       "  'choline',\n",
       "  'Phosphatidylcholine']]"
      ]
     },
     "execution_count": 50,
     "metadata": {},
     "output_type": "execute_result"
    }
   ],
   "source": [
    "name_lists = []\n",
    "for network_id in example_set.get(\"networks\"):\n",
    "    #print(network_id)\n",
    "    name_lists.append(get_gene_list(network_id))\n",
    "name_lists"
   ]
  },
  {
   "cell_type": "code",
   "execution_count": 51,
   "id": "67fc575f",
   "metadata": {},
   "outputs": [],
   "source": [
    "jaccard = make_similarity_matrix_from_set(example_set_id)"
   ]
  },
  {
   "cell_type": "code",
   "execution_count": 52,
   "id": "4d7e16f0",
   "metadata": {
    "scrolled": true
   },
   "outputs": [
    {
     "data": {
      "text/plain": [
       "[['1313',\n",
       "  'ARF1',\n",
       "  'ARFGAP1',\n",
       "  'ASAP1',\n",
       "  'CD4',\n",
       "  'CLTA',\n",
       "  'CLTB',\n",
       "  'COPA',\n",
       "  'EREG',\n",
       "  'GBF1',\n",
       "  'GGA3',\n",
       "  'GIT1',\n",
       "  'GOSR2',\n",
       "  'HIV Nef',\n",
       "  'KDELR1',\n",
       "  'USO1',\n",
       "  'YKT6',\n",
       "  'ACTR2',\n",
       "  'ACTR3',\n",
       "  'ARHGAP10',\n",
       "  'AP2A1',\n",
       "  'AP2M1',\n",
       "  'ARFGEF1',\n",
       "  'ARFIP2',\n",
       "  'CYTH1',\n",
       "  'CYTH2',\n",
       "  'PIP5K1A',\n",
       "  'PLD2',\n",
       "  'RAC1',\n",
       "  'GDP',\n",
       "  'GTP',\n",
       "  'ATP',\n",
       "  'phosphatidic acid',\n",
       "  'DAG',\n",
       "  'PAPOLA',\n",
       "  '1-phosphatidyl-1D-myo-inositol 3,4,5-trisphosphate',\n",
       "  'brefeldin A',\n",
       "  'PI-4-5-P2',\n",
       "  'PI-4-P',\n",
       "  'choline',\n",
       "  'Phosphatic acid',\n",
       "  'Phosphatidylcholine'],\n",
       " ['ARF1',\n",
       "  'ARF6',\n",
       "  'GDP',\n",
       "  'KALRN',\n",
       "  'MAPK1',\n",
       "  'MAPK3',\n",
       "  'NME1',\n",
       "  'PIP5K1A',\n",
       "  'PLD1',\n",
       "  'PLD2',\n",
       "  'RAB11A',\n",
       "  'RAB11FIP3',\n",
       "  'RAC1',\n",
       "  'RHOA',\n",
       "  'TIAM1',\n",
       "  'phosphatidic acid',\n",
       "  'GM1',\n",
       "  'GTP',\n",
       "  'PLAUR',\n",
       "  'choline',\n",
       "  'Phosphatidylcholine'],\n",
       " ['ACAP1',\n",
       "  'ACAP2',\n",
       "  'ARF6',\n",
       "  'GDP',\n",
       "  'GULP1',\n",
       "  'phosphate',\n",
       "  'ADAP1',\n",
       "  'KIF13B',\n",
       "  'ADRB2',\n",
       "  'ARRB1',\n",
       "  'ARRB2',\n",
       "  'CYTH2',\n",
       "  'beta Arrestin1-2',\n",
       "  'AGTR1',\n",
       "  'CYTH3',\n",
       "  'EGFR',\n",
       "  'EGF',\n",
       "  'HGF',\n",
       "  'IPCEF1',\n",
       "  'IQSEC1',\n",
       "  'MET',\n",
       "  'SRC',\n",
       "  'TSHR',\n",
       "  'ARAP2',\n",
       "  'EFNA1',\n",
       "  'EPHA2',\n",
       "  'GIT1',\n",
       "  'NCK1',\n",
       "  'FBXO8',\n",
       "  'Gq family',\n",
       "  'ITGA2B',\n",
       "  'ITGB3',\n",
       "  'LHCGR',\n",
       "  'PSD',\n",
       "  'PXN',\n",
       "  'USP6',\n",
       "  'phosphatidic acid',\n",
       "  'GTP',\n",
       "  'PI-3-4-5-P3',\n",
       "  'PI-4-5-P2'],\n",
       " ['ACAP1',\n",
       "  'ARF6',\n",
       "  'CLTC',\n",
       "  'PLD1',\n",
       "  'PLD2',\n",
       "  'SLC2A4',\n",
       "  'ASAP2',\n",
       "  'BIN1',\n",
       "  'CPE',\n",
       "  'EXOC1',\n",
       "  'EXOC2',\n",
       "  'EXOC3',\n",
       "  'EXOC4',\n",
       "  'EXOC5',\n",
       "  'EXOC6',\n",
       "  'EXOC7',\n",
       "  'EXOC8',\n",
       "  'ITGA10',\n",
       "  'ITGA11',\n",
       "  'ITGA1',\n",
       "  'ITGA2',\n",
       "  'ITGA3',\n",
       "  'ITGA4',\n",
       "  'ITGA5',\n",
       "  'ITGA6',\n",
       "  'ITGA7',\n",
       "  'ITGA8',\n",
       "  'ITGA9',\n",
       "  'ITGAV',\n",
       "  'ITGB1',\n",
       "  'KLC1',\n",
       "  'MAPK8IP3',\n",
       "  'NME1',\n",
       "  'PIP5K1C',\n",
       "  'RALA',\n",
       "  'Receptors internalized by Arf6 CIE',\n",
       "  'SCAMP2',\n",
       "  'SPAG9',\n",
       "  'TSHR',\n",
       "  'VAMP3',\n",
       "  'CDH1',\n",
       "  'CTNNA1',\n",
       "  'CTNNB1',\n",
       "  'CTNND1',\n",
       "  'DNM2',\n",
       "  'phosphatidic acid',\n",
       "  'calcium(2+)',\n",
       "  'GDP',\n",
       "  'GTP',\n",
       "  'PI-4-5-P2',\n",
       "  'INS',\n",
       "  'PI-4-P',\n",
       "  'choline',\n",
       "  'Phosphatidylcholine']]"
      ]
     },
     "execution_count": 52,
     "metadata": {},
     "output_type": "execute_result"
    }
   ],
   "source": [
    "name_lists = []\n",
    "for network_id in example_set.get(\"networks\"):\n",
    "    #print(network_id)\n",
    "    name_lists.append(get_node_name_list(network_id))\n",
    "name_lists"
   ]
  },
  {
   "cell_type": "code",
   "execution_count": 53,
   "id": "4a8e4c96",
   "metadata": {
    "scrolled": true
   },
   "outputs": [
    {
     "data": {
      "text/plain": [
       "array([[1.        , 0.16666667, 0.07894737, 0.09090909],\n",
       "       [0.16666667, 1.        , 0.07017544, 0.13636364],\n",
       "       [0.07894737, 0.07017544, 1.        , 0.08045977],\n",
       "       [0.09090909, 0.13636364, 0.08045977, 1.        ]])"
      ]
     },
     "execution_count": 53,
     "metadata": {},
     "output_type": "execute_result"
    }
   ],
   "source": [
    "jaccard"
   ]
  },
  {
   "cell_type": "code",
   "execution_count": 55,
   "id": "d8e6f85c",
   "metadata": {
    "scrolled": true
   },
   "outputs": [
    {
     "ename": "AttributeError",
     "evalue": "'Graph' object has no attribute 'to_cx'",
     "output_type": "error",
     "traceback": [
      "\u001b[1;31m---------------------------------------------------------------------------\u001b[0m",
      "\u001b[1;31mAttributeError\u001b[0m                            Traceback (most recent call last)",
      "\u001b[1;32m<ipython-input-55-75d686058258>\u001b[0m in \u001b[0;36m<module>\u001b[1;34m\u001b[0m\n\u001b[0;32m      5\u001b[0m \u001b[0mg\u001b[0m\u001b[1;33m.\u001b[0m\u001b[0mes\u001b[0m\u001b[1;33m[\u001b[0m\u001b[1;34m'weight'\u001b[0m\u001b[1;33m]\u001b[0m \u001b[1;33m=\u001b[0m \u001b[0mjaccard\u001b[0m\u001b[1;33m[\u001b[0m\u001b[0mjaccard\u001b[0m\u001b[1;33m.\u001b[0m\u001b[0mnonzero\u001b[0m\u001b[1;33m(\u001b[0m\u001b[1;33m)\u001b[0m\u001b[1;33m]\u001b[0m\u001b[1;33m\u001b[0m\u001b[1;33m\u001b[0m\u001b[0m\n\u001b[0;32m      6\u001b[0m \u001b[1;31m#g.vs['label'] = node_names  # or a.index/a.columns\u001b[0m\u001b[1;33m\u001b[0m\u001b[1;33m\u001b[0m\u001b[1;33m\u001b[0m\u001b[0m\n\u001b[1;32m----> 7\u001b[1;33m \u001b[0mg\u001b[0m\u001b[1;33m.\u001b[0m\u001b[0mto_cx\u001b[0m\u001b[1;33m(\u001b[0m\u001b[1;33m)\u001b[0m\u001b[1;33m\u001b[0m\u001b[1;33m\u001b[0m\u001b[0m\n\u001b[0m",
      "\u001b[1;31mAttributeError\u001b[0m: 'Graph' object has no attribute 'to_cx'"
     ]
    }
   ],
   "source": [
    "# Create graph, A.astype(bool).tolist() or (A / A).tolist() can also be used.\n",
    "g = igraph.Graph.Adjacency((jaccard > 0.08).tolist())\n",
    "\n",
    "# Add edge weights and node labels.\n",
    "g.es['weight'] = jaccard[jaccard.nonzero()]\n",
    "#g.vs['label'] = node_names  # or a.index/a.columns\n",
    "g.to_cx()"
   ]
  },
  {
   "cell_type": "code",
   "execution_count": 62,
   "id": "ee38b3d8",
   "metadata": {},
   "outputs": [
    {
     "data": {
      "text/plain": [
       "<ndex2.nice_cx_network.NiceCXNetwork at 0x1fb9fe604c0>"
      ]
     },
     "execution_count": 62,
     "metadata": {},
     "output_type": "execute_result"
    }
   ],
   "source": [
    "n = nx.from_numpy_matrix(jaccard > 0.08)\n",
    "ncx=ndex2.create_nice_cx_from_networkx(n)\n",
    "ncx"
   ]
  },
  {
   "cell_type": "markdown",
   "id": "539708aa",
   "metadata": {},
   "source": [
    "## Process a Hierarchy\n",
    "- get the hierarchy\n",
    "- for each community, get the member list\n",
    "- make the matrices and the network as above\n",
    "- set the name of each node to be the name of the community\n",
    "- set the \"members\" attribute of each node to be the members of the community\n",
    "- ...maybe just copy ALL attributes of the hierarchy nodes\n",
    "- set the style of the network to be the similarity network style\n",
    "- set the derived from attribute to the UUID of the hierarchy\n",
    "- make a link in the description open the hierarchy in a new tab\n",
    "- ***do we prune this to avoid re-creating the parent-child links? Or is a threshold sufficient?*\n",
    "- save to NDEx"
   ]
  },
  {
   "cell_type": "code",
   "execution_count": 63,
   "id": "72542dac",
   "metadata": {},
   "outputs": [
    {
     "name": "stdout",
     "output_type": "stream",
     "text": [
      "Generating CX\n"
     ]
    },
    {
     "data": {
      "application/vnd.jupyter.widget-view+json": {
       "model_id": "0e8a2b1ddc754208b9bbdb6f47f50f3f",
       "version_major": 2,
       "version_minor": 0
      },
      "text/plain": [
       "Cytoscape(data=[{'numberVerification': [{'longNumber': 281474976710655}]}, {'metaData': [{'name': 'nodes', 'el…"
      ]
     },
     "metadata": {},
     "output_type": "display_data"
    }
   ],
   "source": [
    "from cyjupyter import Cytoscape\n",
    "nice_cx_network_viz = ncx.to_cx()\n",
    "Cytoscape(data=nice_cx_network_viz, format='cx')"
   ]
  },
  {
   "cell_type": "code",
   "execution_count": null,
   "id": "7a80a09b",
   "metadata": {},
   "outputs": [],
   "source": []
  }
 ],
 "metadata": {
  "kernelspec": {
   "display_name": "Python 3",
   "language": "python",
   "name": "python3"
  },
  "language_info": {
   "codemirror_mode": {
    "name": "ipython",
    "version": 3
   },
   "file_extension": ".py",
   "mimetype": "text/x-python",
   "name": "python",
   "nbconvert_exporter": "python",
   "pygments_lexer": "ipython3",
   "version": "3.8.11"
  }
 },
 "nbformat": 4,
 "nbformat_minor": 5
}
